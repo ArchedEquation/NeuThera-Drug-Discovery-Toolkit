{
 "cells": [
  {
   "cell_type": "code",
   "execution_count": 1,
   "metadata": {},
   "outputs": [],
   "source": [
    "# !pip install langchain openai\n",
    "# !pip install python-arango\n",
    "# !pip install langchain-community\n",
    "# !pip install langchain-openai\n",
    "# !pip install --upgrade langchain langchain-community langchain-openai langgraph\n",
    "# !pip install langgraph\n",
    "# !pip install biomart\n",
    "\n",
    "# !pip install DeepPurpose \n",
    "# !pip install torch torchvision torchaudio\n",
    "\n",
    "# !pip install git+https://github.com/bp-kelley/descriptastorus\n",
    "# !pip install pandas-flavor\n"
   ]
  },
  {
   "cell_type": "code",
   "execution_count": 46,
   "metadata": {},
   "outputs": [],
   "source": [
    "import os\n",
    "import sys\n",
    "import requests\n",
    "import ast\n",
    "import json\n",
    "from datetime import datetime\n",
    "from glob import glob\n",
    "from io import StringIO\n",
    "\n",
    "import pandas as pd\n",
    "\n",
    "from dotenv import load_dotenv\n",
    "from arango import ArangoClient\n",
    "from biomart import BiomartServer\n",
    "\n",
    "from langgraph.prebuilt import create_react_agent\n",
    "from langgraph.checkpoint.memory import MemorySaver\n",
    "from langchain_openai import ChatOpenAI\n",
    "from langchain_community.graphs import ArangoGraph\n",
    "from langchain_community.chains.graph_qa.arangodb import ArangoGraphQAChain\n",
    "from langchain_core.tools import tool\n",
    "\n",
    "from DeepPurpose import utils\n",
    "from DeepPurpose import DTI as models\n",
    "\n",
    "from rdkit import Chem, DataStructs\n",
    "from rdkit.Chem import MACCSkeys\n",
    "from rdkit.Chem import Draw, AllChem\n",
    "\n",
    "from Bio.PDB import MMCIFParser"
   ]
  },
  {
   "cell_type": "code",
   "execution_count": 23,
   "metadata": {},
   "outputs": [],
   "source": [
    "load_dotenv()\n",
    "openai_api_key = os.getenv(\"OPENAI_API_KEY\")"
   ]
  },
  {
   "cell_type": "code",
   "execution_count": 24,
   "metadata": {},
   "outputs": [],
   "source": [
    "db = ArangoClient(hosts=\"http://localhost:8529\").db('NeuThera', username='root', password='openSesame')\n",
    "arango_graph = ArangoGraph(db)"
   ]
  },
  {
   "cell_type": "markdown",
   "metadata": {},
   "source": [
    "## Tooling\n",
    "\n",
    "- **text_to_aql**: Executes a relevant AQL from user input\n",
    "- **fetch_pdb_from_ensp**: Fetches PDB IDs from ENSP IDs\n",
    "- **predict_binding_affinity**: uses DeepPurpose to find the binding affinity of a compound on a target protein\n",
    "- "
   ]
  },
  {
   "cell_type": "code",
   "execution_count": 25,
   "metadata": {},
   "outputs": [],
   "source": [
    "@tool\n",
    "def text_to_aql(query: str):\n",
    "    \"\"\"Execute a Natural Language Query in ArangoDB, and return the result as text.\"\"\"\n",
    "    \n",
    "    llm = ChatOpenAI(temperature=0, model_name=\"gpt-4o\")\n",
    "\n",
    "    chain = ArangoGraphQAChain.from_llm(\n",
    "        llm=llm,\n",
    "        graph=arango_graph,  # Assuming arango_graph is already initialized\n",
    "        verbose=True,\n",
    "        allow_dangerous_requests=True\n",
    "    )\n",
    "    \n",
    "    result = chain.invoke(query)\n",
    "\n",
    "    return str(result[\"result\"])"
   ]
  },
  {
   "cell_type": "code",
   "execution_count": 39,
   "metadata": {},
   "outputs": [],
   "source": [
    "# @tool\n",
    "def predict_binding_affinity(X_drug, X_target, y=[7.635]):\n",
    "    \"\"\"\n",
    "    Predicts the binding affinity for given drug and target sequences.\n",
    "\n",
    "    Parameters:\n",
    "    X_drug (list): List containing the SMILES representation of the drug.\n",
    "    X_target (list): List containing the amino acid sequence of the protein target.\n",
    "\n",
    "    Returns:\n",
    "    float: Predicted binding affinity (log(Kd) or log(Ki)).\n",
    "    \"\"\"\n",
    "\n",
    "    print(\"Predicting binding affinity: \", X_drug, X_target)\n",
    "    \n",
    "    model = models.model_pretrained(path_dir='DTI_model')\n",
    "\n",
    "    X_pred = utils.data_process(X_drug, X_target, y,\n",
    "                                drug_encoding='CNN', \n",
    "                                target_encoding='CNN', \n",
    "                                split_method='no_split')\n",
    "   \n",
    "    predictions = model.predict(X_pred)\n",
    "\n",
    "    return predictions[0]\n"
   ]
  },
  {
   "cell_type": "code",
   "execution_count": 28,
   "metadata": {},
   "outputs": [],
   "source": [
    "@tool\n",
    "def get_amino_acid_sequence_from_pdb(pdb_id):    \n",
    "    \"\"\"\n",
    "    Extracts amino acid sequences from a given PDB structure file in CIF format.\n",
    "\n",
    "    Args:\n",
    "        pdb_id (str): pdb id of the protein.\n",
    "\n",
    "    Returns:\n",
    "        dict: A dictionary where keys are chain IDs and values are amino acid sequences.\n",
    "    \"\"\"\n",
    "\n",
    "    print(\"Getting Amino Acid sequence for \", pdb_id)\n",
    "\n",
    "    cif_file_path = f\"./database/PDBlib/{pdb_id.lower()}.cif\"\n",
    "\n",
    "    parser = MMCIFParser(QUIET=True)\n",
    "    structure = parser.get_structure(\"protein\", cif_file_path)\n",
    "    \n",
    "    sequences = {}\n",
    "    for model in structure:\n",
    "        for chain in model:\n",
    "            seq = \"\".join(residue.resname for residue in chain if residue.id[0] == \" \")\n",
    "            sequences[chain.id] = seq \n",
    "            \n",
    "    return sequences"
   ]
  },
  {
   "cell_type": "code",
   "execution_count": 29,
   "metadata": {},
   "outputs": [],
   "source": [
    "sys.path.append(os.path.abspath(\"./TamGen\"))"
   ]
  },
  {
   "cell_type": "code",
   "execution_count": 30,
   "metadata": {},
   "outputs": [
    {
     "name": "stdout",
     "output_type": "stream",
     "text": [
      "Namespace(no_progress_bar=False, log_interval=1000, log_format=None, tensorboard_logdir='', tbmf_wrapper=False, seed=1, cpu=False, fp16=False, memory_efficient_fp16=False, fp16_init_scale=128, fp16_scale_window=None, fp16_scale_tolerance=0.0, min_loss_scale=0.0001, threshold_loss_scale=None, user_dir=None, criterion='cross_entropy', tokenizer=None, bpe=None, optimizer='nag', lr_scheduler='fixed', task='translation_coord', num_workers=1, skip_invalid_size_inputs_valid_test=False, max_tokens=1024, max_sentences=None, required_batch_size_multiple=8, dataset_impl=None, gen_subset='gen_8fln', num_shards=1, shard_id=0, path='checkpoints/crossdock_pdb_A10/checkpoint_best.pt', remove_bpe=None, quiet=False, model_overrides='{}', results_path=None, beam=20, nbest=20, max_len_a=0, max_len_b=200, min_len=1, match_source_len=False, no_early_stop=False, unnormalized=False, no_beamable_mm=False, lenpen=1, unkpen=0, replace_unk=None, sacrebleu=False, score_reference=False, prefix_size=0, prefix_string=None, tag_prefix_token=False, no_repeat_ngram_size=0, sampling=False, sampling_topk=-1, sampling_topp=-1.0, temperature=1.0, diverse_beam_groups=-1, diverse_beam_strength=0.5, print_alignment=False, scorer='bleu', codegen_pov_replace_unk=True, dump_hyp=None, momentum=0.99, weight_decay=0.0, force_anneal=None, lr_shrink=0.1, warmup_updates=0, data='./TamGen_Demo_Data', source_lang='tg', target_lang='m1', lazy_load=False, raw_text=False, left_pad_source='True', left_pad_target='False', max_source_positions=1024, max_target_positions=1024, upsample_primary=1, coord_mode='raw', use_src_coord=True, use_tgt_coord=False, shuffle_input=False, vae=False, sample_beta=1.0, hint=False, hint_rate=0.5, gen_coord_noise=False, gen_rot=False, gen_vae=True, remove_prefix_fragment=False)\n",
      "| [tg] dictionary: 25 types\n",
      "| [m1] dictionary: 962 types\n",
      "| loading model(s) from checkpoints/crossdock_pdb_A10/checkpoint_best.pt\n",
      "checkpoints/crossdock_pdb_A10/checkpoint_best.pt\n",
      "gpt_model/checkpoint_best.pt\n"
     ]
    }
   ],
   "source": [
    "from TamGen_custom import TamGenCustom\n",
    "\n",
    "os.environ[\"CUDA_VISIBLE_DEVICES\"] = \"0\"\n",
    "\n",
    "worker = TamGenCustom(\n",
    "    data=\"./TamGen_Demo_Data\",\n",
    "    ckpt=\"checkpoints/crossdock_pdb_A10/checkpoint_best.pt\",\n",
    "    use_conditional=True\n",
    ")\n",
    "\n",
    "@tool\n",
    "def prepare_pdb_data(pdb_id):\n",
    "    \"\"\"\n",
    "    Checks if the PDB data for the given PDB ID is available.  \n",
    "    If not, downloads and processes the data.\n",
    "\n",
    "    ALWAYS RUN THIS FUNCTION BEFORE WORKING WITH PDB\n",
    "\n",
    "    Args:\n",
    "        pdb_id (str): PDB ID of the target structure.\n",
    "\n",
    "    \"\"\"\n",
    "\n",
    "    DemoDataFolder=\"TamGen_Demo_Data\"\n",
    "    ligand_inchi=None\n",
    "    thr=10\n",
    "\n",
    "    out_split = pdb_id.lower()\n",
    "    FF = glob(f\"{DemoDataFolder}/*\")\n",
    "    for ff in FF:\n",
    "        if f\"gen_{out_split}\" in ff:\n",
    "            print(f\"{pdb_id} is downloaded\")\n",
    "            return\n",
    "    \n",
    "    os.makedirs(DemoDataFolder, exist_ok=True)\n",
    "    \n",
    "    with open(\"tmp_pdb.csv\", \"w\") as fw:\n",
    "        if ligand_inchi is None:\n",
    "            print(\"pdb_id\", file=fw)\n",
    "            print(f\"{pdb_id}\", file=fw)\n",
    "        else:\n",
    "            print(\"pdb_id,ligand_inchi\", file=fw)\n",
    "            print(f\"{pdb_id},{ligand_inchi}\", file=fw)\n",
    "\n",
    "    script_path = os.path.abspath(\"TamGen/scripts/build_data/prepare_pdb_ids.py\")\n",
    "    os.system(f\"python {script_path} tmp_pdb.csv gen_{out_split} -o {DemoDataFolder} -t {thr}\")\n",
    "    os.remove(\"tmp_pdb.csv\")\n",
    "\n",
    "@tool\n",
    "def generate_compounds(pdb_id, num_samples=10, max_seed=30):\n",
    "    \"\"\"\n",
    "    Generates and sorts compounds based on similarity to a reference molecule.\n",
    "\n",
    "    Parameters:\n",
    "    - pdb_id (str): The PDB ID of the target protein.\n",
    "    - num_samples (int): Number of compounds to generate. (DEFAULT=500)\n",
    "    - max_seed (int): Maximum seed variations. (DEFAULT=30)\n",
    "\n",
    "    Returns:\n",
    "    - dict: {\n",
    "        'generated': [list of rdkit Mol objects],\n",
    "        'reference': rdkit Mol object,\n",
    "        'reference_smile': SMILE string of the reference compound\n",
    "        'generated_smiles': [list of SMILES strings, sorted by similarity to reference]\n",
    "      }\n",
    "    \"\"\"\n",
    "\n",
    "    print(\"Generating Compounds for PDB \", pdb_id)\n",
    "    try:\n",
    "        # Ensure the required PDB data is prepared\n",
    "        # prepare_pdb_data(pdb_id)\n",
    "\n",
    "        worker.reload_data(subset=f\"gen_{pdb_id.lower()}\")\n",
    "\n",
    "        print(f\"Generating {num_samples} compounds...\")\n",
    "        generated_mols, reference_mol = worker.sample(\n",
    "            m_sample=num_samples, \n",
    "            maxseed=max_seed\n",
    "        )\n",
    "\n",
    "        if reference_mol:\n",
    "            # Ensure reference_mol is an RDKit Mol object\n",
    "            if isinstance(reference_mol, str):\n",
    "                reference_mol = Chem.MolFromSmiles(reference_mol)\n",
    "\n",
    "            fp_ref = MACCSkeys.GenMACCSKeys(reference_mol)\n",
    "\n",
    "            gens = []\n",
    "            for mol in generated_mols:\n",
    "                if isinstance(mol, str):  # Convert string SMILES to Mol\n",
    "                    mol = Chem.MolFromSmiles(mol)\n",
    "                if mol:  # Ensure conversion was successful\n",
    "                    fp = MACCSkeys.GenMACCSKeys(mol)\n",
    "                    similarity = DataStructs.FingerprintSimilarity(fp_ref, fp, metric=DataStructs.TanimotoSimilarity)\n",
    "                    gens.append((mol, similarity))\n",
    "\n",
    "            sorted_mols = [mol for mol, _ in sorted(gens, key=lambda e: e[1], reverse=True)]\n",
    "        \n",
    "        else:\n",
    "            sorted_mols = generated_mols\n",
    "\n",
    "        generated_smiles = [Chem.MolToSmiles(mol) for mol in sorted_mols if mol]\n",
    "\n",
    "        reference_smile = Chem.MolToSmiles(reference_mol)\n",
    "\n",
    "        return {\n",
    "            \"generated\": sorted_mols,\n",
    "            \"reference\": reference_mol,\n",
    "            \"reference_smile\": reference_smile,\n",
    "            \"generated_smiles\": generated_smiles\n",
    "        }\n",
    "\n",
    "    except Exception as e:\n",
    "        print(f\"Error in compound generation: {str(e)}\")\n",
    "        return {\"error\": str(e)}"
   ]
  },
  {
   "cell_type": "code",
   "execution_count": 49,
   "metadata": {},
   "outputs": [],
   "source": [
    "@tool\n",
    "def generate_report(columns, rows):\n",
    "    \"\"\"\n",
    "    Generate a report in CSV format with a timestamped filename. This function uses pandas to create a CSV.\n",
    "    \n",
    "    Parameters:\n",
    "    columns (list): List of column names.\n",
    "    rows (list of lists): Data rows corresponding to the columns.\n",
    "    \n",
    "    Returns:\n",
    "    str: Path of the generated CSV report.\n",
    "    \"\"\"\n",
    "    timestamp = datetime.now().strftime(\"%Y%m%d_%H%M%S\")\n",
    "    filename = f\"report_{timestamp}.csv\"\n",
    "    \n",
    "    df = pd.DataFrame(rows, columns=columns)\n",
    "    df.to_csv(filename, index=False)\n",
    "    \n",
    "    return filename"
   ]
  },
  {
   "cell_type": "markdown",
   "metadata": {},
   "source": [
    "### Agentic RAG"
   ]
  },
  {
   "cell_type": "code",
   "execution_count": 50,
   "metadata": {},
   "outputs": [],
   "source": [
    "tools = [ text_to_aql, get_amino_acid_sequence_from_pdb, prepare_pdb_data, generate_compounds, predict_binding_affinity, generate_report ]\n",
    "\n",
    "def query_graph(query):\n",
    "    \n",
    "    query_template = f\"\"\"\n",
    "    user input: {query}\n",
    "\n",
    "    You are an advanced drug discovery assistant with multiple tools.\n",
    "\n",
    "    - Use your tools as needed to assist in end-to-end drug discovery and answer user queries.\n",
    "    - Always structure your output as valid JSON string so it can be parsed in python.\n",
    "    - If possible, always try to generate reports for whatever output you get. Don't generate reports for errors\n",
    "    - Do not add explanations or any extra text.\n",
    "\n",
    "    !WARNING!\n",
    "    YOU RUN FOR DEMO PURPOSES ONLY\n",
    "\n",
    "    - DO NOT RUN TOOLS ESPECIALLY generate_compounds AND predict_binding_affinity MULTIPLE TIMES\n",
    "    - IF MULTIPLE OUTPUTS ARE FOUND FOR PROCESSING, JUST PICK THE FIRST ONE AND RUN THE PROCEEDING FUNCTIONS WITH THAT.\n",
    "    \"\"\"\n",
    "    \n",
    "    llm = ChatOpenAI(temperature=0, model_name=\"gpt-4o\")\n",
    "    app = create_react_agent(llm, tools)    \n",
    "    final_state = app.invoke({\"messages\": [{\"role\": \"user\", \"content\": query_template}]})\n",
    "    return final_state"
   ]
  },
  {
   "cell_type": "code",
   "execution_count": 51,
   "metadata": {},
   "outputs": [
    {
     "name": "stdout",
     "output_type": "stream",
     "text": [
      "\n",
      "\n",
      "\u001b[1m> Entering new ArangoGraphQAChain chain...\u001b[0m\n",
      "AQL Query (1):\u001b[32;1m\u001b[1;3m\n",
      "WITH gene, protein, gene-protein\n",
      "FOR gene_doc IN gene\n",
      "  FILTER gene_doc.gene_name == \"mitochondrial ribosomal protein L36\"\n",
      "  FOR edge IN gene-protein\n",
      "    FILTER edge._from == gene_doc._id\n",
      "    FOR protein_doc IN protein\n",
      "      FILTER protein_doc._id == edge._to\n",
      "      RETURN protein_doc\n",
      "\u001b[0m\n",
      "AQL Query Execution Error: \n",
      "\u001b[33;1m\u001b[1;3msyntax error, unexpected - operator near '-protein\n",
      "FOR gene_doc IN gene\n",
      "  ...' at position 2:25\u001b[0m\n",
      "\n",
      "AQL Query (2):\u001b[32;1m\u001b[1;3m\n",
      "WITH gene, protein, `gene-protein`\n",
      "FOR gene_doc IN gene\n",
      "  FILTER gene_doc.gene_name == \"mitochondrial ribosomal protein L36\"\n",
      "  FOR edge IN `gene-protein`\n",
      "    FILTER edge._from == gene_doc._id\n",
      "    FOR protein_doc IN protein\n",
      "      FILTER protein_doc._id == edge._to\n",
      "      RETURN protein_doc\n",
      "\u001b[0m\n",
      "AQL Result:\n",
      "\u001b[32;1m\u001b[1;3m[{'_key': '3j7y', '_id': 'protein/3j7y', '_rev': '_jUJ1i8u--s'}, {'_key': '3j9m', '_id': 'protein/3j9m', '_rev': '_jUJ1i8u--t'}, {'_key': '5ool', '_id': 'protein/5ool', '_rev': '_jUJ1i8u--u'}, {'_key': '6i9r', '_id': 'protein/6i9r', '_rev': '_jUJ1i8u--v'}, {'_key': '6nu2', '_id': 'protein/6nu2', '_rev': '_jUJ1i8u--w'}, {'_key': '6nu3', '_id': 'protein/6nu3', '_rev': '_jUJ1i8u--x'}, {'_key': '6vlz', '_id': 'protein/6vlz', '_rev': '_jUJ1i8u--y'}, {'_key': '6vmi', '_id': 'protein/6vmi', '_rev': '_jUJ1i8u--z'}, {'_key': '6zm5', '_id': 'protein/6zm5', '_rev': '_jUJ1i8u--0'}, {'_key': '6zm6', '_id': 'protein/6zm6', '_rev': '_jUJ1i8u--1'}]\u001b[0m\n",
      "\n",
      "\u001b[1m> Finished chain.\u001b[0m\n",
      "Generating Compounds for PDB  3j7y\n",
      "Error in compound generation: Dataset not found: gen_3j7y (./TamGen_Demo_Data)\n"
     ]
    },
    {
     "name": "stderr",
     "output_type": "stream",
     "text": [
      "  0%|          | 0/1 [00:00<?, ?it/s]"
     ]
    },
    {
     "name": "stdout",
     "output_type": "stream",
     "text": [
      "Processing 3j7y\n"
     ]
    },
    {
     "name": "stderr",
     "output_type": "stream",
     "text": [
      "WARNING:af2_mmcif_parsing.py:Invalid resolution format: ['.']\n",
      "WARNING:fairseq_dataset_build_utils.py:0: Ligand chain id A not found in mmCIF object.\n",
      "100%|██████████| 1/1 [00:02<00:00,  2.20s/it]\n",
      "Traceback (most recent call last):\n",
      "  File \"/Users/redomic/Documents/Projects/Hackathons/GDG/GDG-25/TamGen/scripts/build_data/prepare_pdb_ids.py\", line 68, in <module>\n",
      "    main()\n",
      "  File \"/Users/redomic/Documents/Projects/Hackathons/GDG/GDG-25/TamGen/scripts/build_data/prepare_pdb_ids.py\", line 61, in main\n",
      "    dump_data(all_data, args.name, output_dir=args.output,\n",
      "  File \"/Users/redomic/Documents/Projects/Hackathons/GDG/TamGen/fairseq/molecule_utils/external/fairseq_dataset_build_utils.py\", line 947, in dump_data\n",
      "    if processed_pairs[0].uniprot_id is not None:\n",
      "       ~~~~~~~~~~~~~~~^^^\n",
      "IndexError: list index out of range\n"
     ]
    },
    {
     "name": "stdout",
     "output_type": "stream",
     "text": [
      "Generating Compounds for PDB  3j9m\n",
      "Error in compound generation: Dataset not found: gen_3j9m (./TamGen_Demo_Data)\n"
     ]
    },
    {
     "name": "stderr",
     "output_type": "stream",
     "text": [
      "  0%|          | 0/1 [00:00<?, ?it/s]"
     ]
    },
    {
     "name": "stdout",
     "output_type": "stream",
     "text": [
      "Processing 3j9m\n"
     ]
    },
    {
     "name": "stderr",
     "output_type": "stream",
     "text": [
      "WARNING:af2_mmcif_parsing.py:Invalid resolution format: ['.']\n",
      "100%|██████████| 1/1 [00:03<00:00,  3.65s/it]\n",
      "Traceback (most recent call last):\n",
      "  File \"/Users/redomic/Documents/Projects/Hackathons/GDG/GDG-25/TamGen/scripts/build_data/prepare_pdb_ids.py\", line 68, in <module>\n",
      "    main()\n",
      "  File \"/Users/redomic/Documents/Projects/Hackathons/GDG/GDG-25/TamGen/scripts/build_data/prepare_pdb_ids.py\", line 61, in main\n",
      "    dump_data(all_data, args.name, output_dir=args.output,\n",
      "  File \"/Users/redomic/Documents/Projects/Hackathons/GDG/TamGen/fairseq/molecule_utils/external/fairseq_dataset_build_utils.py\", line 947, in dump_data\n",
      "    if processed_pairs[0].uniprot_id is not None:\n",
      "       ~~~~~~~~~~~~~~~^^^\n",
      "IndexError: list index out of range\n"
     ]
    },
    {
     "name": "stdout",
     "output_type": "stream",
     "text": [
      "Generating Compounds for PDB 5ool is downloaded\n",
      " 5ool\n",
      "| loaded 1 examples from: ./TamGen_Demo_Data/gen_5ool.tg-m1.tg\n",
      "| loaded 1 examples from: ./TamGen_Demo_Data/gen_5ool.tg-m1.m1\n",
      "| ./TamGen_Demo_Data gen_5ool tg-m1 1 examples\n",
      "| loaded 1 examples from: ./TamGen_Demo_Data/gen_5ool.tg-m1.tg.coord\n",
      "Generating 10 compounds...\n"
     ]
    },
    {
     "name": "stderr",
     "output_type": "stream",
     "text": [
      " 97%|█████████▋| 29/30 [04:57<00:10, 10.26s/it]\n"
     ]
    },
    {
     "name": "stdout",
     "output_type": "stream",
     "text": [
      "Getting Amino Acid sequence for  5ool\n",
      "Predicting binding affinity:  ['CC(C)(COP(=O)(O)OP(=O)(O)OC[C@H]1O[C@@H](n2ccc(=N)nc2O)[C@H](O)[C@@H]1OP(=O)(O)O)[C@@H](O)C(O)=NCCC(O)=NCCS'] ['GCUAAACCUAGCCCCAAACCCCCACCUUACUACCAAACCUUAGCCAAACCAUUUACAUAAAGUAUAGGCGAUAGAAAUUGGGCGCAAUAGAUAUAGUACCGCAAGGGAAAGAUGAAAAAACCAAGCAUAAUAUAGCAAGGACUAACCCCUAUACCUUCUGCAUAAUGAAUUAACUAGAAAUAACUUUGCAAGGAGAGCCAAAGCUAAGACCCCCGAAACCAGACGAGCUACCUAAGAACAGCUAAGAGCACACCCGUCUAUGUAGCAAAAUAGUGGGAAGAUUUAUAGGUAGAGGCGACAAACCUACCGAGCCUGGUGAUAGCUGGUUGUCCAAGAUAGAAUCUUAGUUCAACUUUAAAUUUGCCCACAGAACCAAAUCCCCUUGUAAAUUUAACUGUUAGUCCAAAGAGGAACAGCUCUUUGGACACUAGGAAAAAACCUUGUAGAGAGAGUAAAAAAUUUAACACCCAUAGUAGGCCUAAAAGCAGCCACCAAUUAAGAAAGCGUUCAAGCUCAACACAAAAAUCCCAAACAUAUAACUGAACUCCUCACACCCAAUUGGACCAAUCUAUCACCCUAUAGAAGAACUAAUGUUAGUAUAAGUAACAUGAAAACAUUCUCCUCCGCAUAAGCCUGCGUCAGCAACUGACAAUUAACAGCCCAAUAUCUACAAUCAACCAACAAGUCAUUAUUACCCUCACUGUCAACCCAACACAGGCAUGCUCAUAAGGAAAGGUUAAAAAAAGUAAAAGGAACUCGGCAAAUCUUACCCCGCCUGUUUACCAAAAACAUCACCUCUAGCAUCACCAGUAUUAGAGGCACCGCCUGCCCAGUGACACAUGUUUAACGGCCGCAAAGGUAGCAUAAUCACUUGUUCCUUAAAUAGGGACCUGUAUGAAUGGCUCCACGAGGGUUCAGCUGUCUCUUACUUUUAACCAGUGAAAUUGACCUGCCCGUGAAGAGGCGGGCAUAACACAGCAAGACGAGAAGACCCUAUGGAGCUUUAAUUUAUUAAUGCAAACACCUGCAUUAAAAAUUUCGGUUGGGGCGACCUCGGAGCAGAACCCAACCUCCGAGCAGUACAUGCUAAGACUUCACCAGUCAAAGCGAACCUCAAUUGAUCCAAUAACUUGACCAACGGAACAAGUUACCCUAGGGAUAACAGCGCAAUCCUAUUCUAGAGUCCAUAUCAACAAUAGGGUUUACGACCUCGAUGUUGGAUCAGGACAUCCCGAUGGUGCAGCCGCUAUUAAAGGUUCGUUUGUUCAACGAUUAAAGUCCUACGUGAUCUGAGUUCAGACCGGAGUAAUCCAGGUCGGUUUCUAUCUACUUUAUUCCUCCCUGUACGAAAGGACAAGAGAAAUAAGGCCUACUUCACAAAGCGCCUUCCCCCGUAAAUGAUAUCAUCUCAACUUAGAUACCCACACCCAAGAACAGGGUU']\n",
      "Drug Target Interaction Prediction Mode...\n",
      "in total: 1 drug-target pairs\n",
      "encoding drug...\n",
      "unique drugs: 1\n",
      "encoding protein...\n",
      "unique target sequence: 1\n",
      "splitting dataset...\n",
      "do not do train/test split on the data for already splitted data\n",
      "predicting...\n"
     ]
    },
    {
     "data": {
      "text/plain": [
       "{'messages': [HumanMessage(content=\"\\n    user input: What proteins can you find me related to mitochondrial ribosomal protein L36? Generate some compounds and test their binding affinity\\n\\n    You are an advanced drug discovery assistant with multiple tools.\\n\\n    - Use your tools as needed to assist in end-to-end drug discovery and answer user queries.\\n    - Always structure your output as valid JSON string so it can be parsed in python.\\n    - If possible, always try to generate reports for whatever output you get. Don't generate reports for errors\\n    - Do not add explanations or any extra text.\\n\\n    !WARNING!\\n    YOU RUN FOR DEMO PURPOSES ONLY\\n\\n    - DO NOT RUN TOOLS ESPECIALLY generate_compounds AND predict_binding_affinity MULTIPLE TIMES\\n    - IF MULTIPLE OUTPUTS ARE FOUND FOR PROCESSING, JUST PICK THE FIRST ONE AND RUN THE PROCEEDING FUNCTIONS WITH THAT.\\n    \", additional_kwargs={}, response_metadata={}, id='8a5ece78-2a28-4263-a1f0-ac5aeb6acfdd'),\n",
       "  AIMessage(content='', additional_kwargs={'tool_calls': [{'id': 'call_RWGe9lOLptDF0AaXfC8MMngP', 'function': {'arguments': '{\"query\":\"Find proteins related to mitochondrial ribosomal protein L36\"}', 'name': 'text_to_aql'}, 'type': 'function'}], 'refusal': None}, response_metadata={'token_usage': {'completion_tokens': 26, 'prompt_tokens': 706, 'total_tokens': 732, 'completion_tokens_details': {'accepted_prediction_tokens': 0, 'audio_tokens': 0, 'reasoning_tokens': 0, 'rejected_prediction_tokens': 0}, 'prompt_tokens_details': {'audio_tokens': 0, 'cached_tokens': 0}}, 'model_name': 'gpt-4o-2024-08-06', 'system_fingerprint': 'fp_eb9dce56a8', 'finish_reason': 'tool_calls', 'logprobs': None}, id='run-69019b5b-9776-4710-8d3b-f83a87e890f2-0', tool_calls=[{'name': 'text_to_aql', 'args': {'query': 'Find proteins related to mitochondrial ribosomal protein L36'}, 'id': 'call_RWGe9lOLptDF0AaXfC8MMngP', 'type': 'tool_call'}], usage_metadata={'input_tokens': 706, 'output_tokens': 26, 'total_tokens': 732, 'input_token_details': {'audio': 0, 'cache_read': 0}, 'output_token_details': {'audio': 0, 'reasoning': 0}}),\n",
       "  ToolMessage(content='The proteins related to the mitochondrial ribosomal protein L36 are identified by the following keys: 3j7y, 3j9m, 5ool, 6i9r, 6nu2, 6nu3, 6vlz, 6vmi, 6zm5, and 6zm6.', name='text_to_aql', id='02627b88-1af9-44ee-b3b9-3d077944a1bf', tool_call_id='call_RWGe9lOLptDF0AaXfC8MMngP'),\n",
       "  AIMessage(content='', additional_kwargs={'tool_calls': [{'id': 'call_sGhHwWZiZk7xXfc2b5vksgUF', 'function': {'arguments': '{\"pdb_id\": \"3j7y\"}', 'name': 'prepare_pdb_data'}, 'type': 'function'}, {'id': 'call_2V4LOCHkXibO5hzKtezbjLjT', 'function': {'arguments': '{\"pdb_id\": \"3j7y\", \"num_samples\": 10}', 'name': 'generate_compounds'}, 'type': 'function'}], 'refusal': None}, response_metadata={'token_usage': {'completion_tokens': 63, 'prompt_tokens': 812, 'total_tokens': 875, 'completion_tokens_details': {'accepted_prediction_tokens': 0, 'audio_tokens': 0, 'reasoning_tokens': 0, 'rejected_prediction_tokens': 0}, 'prompt_tokens_details': {'audio_tokens': 0, 'cached_tokens': 0}}, 'model_name': 'gpt-4o-2024-08-06', 'system_fingerprint': 'fp_eb9dce56a8', 'finish_reason': 'tool_calls', 'logprobs': None}, id='run-e572ab9b-aa8f-4f52-bf0e-4819918cbab3-0', tool_calls=[{'name': 'prepare_pdb_data', 'args': {'pdb_id': '3j7y'}, 'id': 'call_sGhHwWZiZk7xXfc2b5vksgUF', 'type': 'tool_call'}, {'name': 'generate_compounds', 'args': {'pdb_id': '3j7y', 'num_samples': 10}, 'id': 'call_2V4LOCHkXibO5hzKtezbjLjT', 'type': 'tool_call'}], usage_metadata={'input_tokens': 812, 'output_tokens': 63, 'total_tokens': 875, 'input_token_details': {'audio': 0, 'cache_read': 0}, 'output_token_details': {'audio': 0, 'reasoning': 0}}),\n",
       "  ToolMessage(content='null', name='prepare_pdb_data', id='199cd57a-42a9-4175-96a4-8424a3056cea', tool_call_id='call_sGhHwWZiZk7xXfc2b5vksgUF'),\n",
       "  ToolMessage(content='{\"error\": \"Dataset not found: gen_3j7y (./TamGen_Demo_Data)\"}', name='generate_compounds', id='50fce73a-8fca-4533-ac2e-dfa8554e3bac', tool_call_id='call_2V4LOCHkXibO5hzKtezbjLjT'),\n",
       "  AIMessage(content='', additional_kwargs={'tool_calls': [{'id': 'call_lcztDqlrVFcgUIQWDe0gw1yR', 'function': {'arguments': '{\"pdb_id\": \"3j9m\"}', 'name': 'prepare_pdb_data'}, 'type': 'function'}, {'id': 'call_tHUlXNHV9UHiYyri2c6SO2tJ', 'function': {'arguments': '{\"pdb_id\": \"3j9m\", \"num_samples\": 10}', 'name': 'generate_compounds'}, 'type': 'function'}], 'refusal': None}, response_metadata={'token_usage': {'completion_tokens': 63, 'prompt_tokens': 911, 'total_tokens': 974, 'completion_tokens_details': {'accepted_prediction_tokens': 0, 'audio_tokens': 0, 'reasoning_tokens': 0, 'rejected_prediction_tokens': 0}, 'prompt_tokens_details': {'audio_tokens': 0, 'cached_tokens': 0}}, 'model_name': 'gpt-4o-2024-08-06', 'system_fingerprint': 'fp_eb9dce56a8', 'finish_reason': 'tool_calls', 'logprobs': None}, id='run-9a80cf36-e418-4179-a295-fd100f3931aa-0', tool_calls=[{'name': 'prepare_pdb_data', 'args': {'pdb_id': '3j9m'}, 'id': 'call_lcztDqlrVFcgUIQWDe0gw1yR', 'type': 'tool_call'}, {'name': 'generate_compounds', 'args': {'pdb_id': '3j9m', 'num_samples': 10}, 'id': 'call_tHUlXNHV9UHiYyri2c6SO2tJ', 'type': 'tool_call'}], usage_metadata={'input_tokens': 911, 'output_tokens': 63, 'total_tokens': 974, 'input_token_details': {'audio': 0, 'cache_read': 0}, 'output_token_details': {'audio': 0, 'reasoning': 0}}),\n",
       "  ToolMessage(content='null', name='prepare_pdb_data', id='566e1392-b3c6-4692-b8cc-de7ef0a58859', tool_call_id='call_lcztDqlrVFcgUIQWDe0gw1yR'),\n",
       "  ToolMessage(content='{\"error\": \"Dataset not found: gen_3j9m (./TamGen_Demo_Data)\"}', name='generate_compounds', id='54bcd6f5-3b4e-43bf-a22a-fb09c8b36f44', tool_call_id='call_tHUlXNHV9UHiYyri2c6SO2tJ'),\n",
       "  AIMessage(content='', additional_kwargs={'tool_calls': [{'id': 'call_s0VQQRvnTKty2OoFJg4stNeL', 'function': {'arguments': '{\"pdb_id\": \"5ool\"}', 'name': 'prepare_pdb_data'}, 'type': 'function'}, {'id': 'call_L0Dtiig2TEjQZvmM7PoDUp5d', 'function': {'arguments': '{\"pdb_id\": \"5ool\", \"num_samples\": 10}', 'name': 'generate_compounds'}, 'type': 'function'}], 'refusal': None}, response_metadata={'token_usage': {'completion_tokens': 59, 'prompt_tokens': 1010, 'total_tokens': 1069, 'completion_tokens_details': {'accepted_prediction_tokens': 0, 'audio_tokens': 0, 'reasoning_tokens': 0, 'rejected_prediction_tokens': 0}, 'prompt_tokens_details': {'audio_tokens': 0, 'cached_tokens': 0}}, 'model_name': 'gpt-4o-2024-08-06', 'system_fingerprint': 'fp_eb9dce56a8', 'finish_reason': 'tool_calls', 'logprobs': None}, id='run-466b7c78-7b8e-4cdd-8047-7f693360c565-0', tool_calls=[{'name': 'prepare_pdb_data', 'args': {'pdb_id': '5ool'}, 'id': 'call_s0VQQRvnTKty2OoFJg4stNeL', 'type': 'tool_call'}, {'name': 'generate_compounds', 'args': {'pdb_id': '5ool', 'num_samples': 10}, 'id': 'call_L0Dtiig2TEjQZvmM7PoDUp5d', 'type': 'tool_call'}], usage_metadata={'input_tokens': 1010, 'output_tokens': 59, 'total_tokens': 1069, 'input_token_details': {'audio': 0, 'cache_read': 0}, 'output_token_details': {'audio': 0, 'reasoning': 0}}),\n",
       "  ToolMessage(content='null', name='prepare_pdb_data', id='b2f78a6f-ca79-4e2a-b89e-c04539bcbc23', tool_call_id='call_s0VQQRvnTKty2OoFJg4stNeL'),\n",
       "  ToolMessage(content=\"{'generated': [<rdkit.Chem.rdchem.Mol object at 0x317d8e880>, <rdkit.Chem.rdchem.Mol object at 0x317d8e2d0>, <rdkit.Chem.rdchem.Mol object at 0x317d8e6c0>], 'reference': <rdkit.Chem.rdchem.Mol object at 0x317d8e570>, 'reference_smile': 'CC(C)(COP(=O)(O)O)[C@@H](O)C(O)=NCCC(O)=NCCS', 'generated_smiles': ['CC(C)(COP(=O)(O)OP(=O)(O)OC[C@H]1O[C@@H](n2ccc(=N)nc2O)[C@H](O)[C@@H]1OP(=O)(O)O)[C@@H](O)C(O)=NCCC(O)=NCCS', 'CC(C)(COP(=O)(O)OP(=O)(O)OC[C@H]1O[C@@H](n2cnc3c(N)ncnc32)[C@H](O)[C@@H]1OP(=O)(O)O)[C@@H](O)C(N)=O', 'CC(C)(COP(=O)(O)OP(=O)(O)OC[C@H]1O[C@@H](n2cnc3c(N)ncnc32)[C@H](O)[C@@H]1OP(=O)(O)O)[C@@H](N)C(=O)O']}\", name='generate_compounds', id='7dc45890-56e6-4cad-a6bd-c7c69994fadd', tool_call_id='call_L0Dtiig2TEjQZvmM7PoDUp5d'),\n",
       "  AIMessage(content='', additional_kwargs={'tool_calls': [{'id': 'call_GDHPnaoWZa679NG42yNee1ll', 'function': {'arguments': '{\"pdb_id\":\"5ool\"}', 'name': 'get_amino_acid_sequence_from_pdb'}, 'type': 'function'}], 'refusal': None}, response_metadata={'token_usage': {'completion_tokens': 25, 'prompt_tokens': 1438, 'total_tokens': 1463, 'completion_tokens_details': {'accepted_prediction_tokens': 0, 'audio_tokens': 0, 'reasoning_tokens': 0, 'rejected_prediction_tokens': 0}, 'prompt_tokens_details': {'audio_tokens': 0, 'cached_tokens': 1024}}, 'model_name': 'gpt-4o-2024-08-06', 'system_fingerprint': 'fp_eb9dce56a8', 'finish_reason': 'tool_calls', 'logprobs': None}, id='run-ee4312bb-bd9e-4d71-b6d6-b172fd71e4eb-0', tool_calls=[{'name': 'get_amino_acid_sequence_from_pdb', 'args': {'pdb_id': '5ool'}, 'id': 'call_GDHPnaoWZa679NG42yNee1ll', 'type': 'tool_call'}], usage_metadata={'input_tokens': 1438, 'output_tokens': 25, 'total_tokens': 1463, 'input_token_details': {'audio': 0, 'cache_read': 1024}, 'output_token_details': {'audio': 0, 'reasoning': 0}}),\n",
       "  ToolMessage(content='{\"A\": \"GCUAAACCUAGCCCCAAACCCCCACCUUACUACCAAACCUUAGCCAAACCAUUUACAUAAAGUAUAGGCGAUAGAAAUUGGGCGCAAUAGAUAUAGUACCGCAAGGGAAAGAUGAAAAAACCAAGCAUAAUAUAGCAAGGACUAACCCCUAUACCUUCUGCAUAAUGAAUUAACUAGAAAUAACUUUGCAAGGAGAGCCAAAGCUAAGACCCCCGAAACCAGACGAGCUACCUAAGAACAGCUAAGAGCACACCCGUCUAUGUAGCAAAAUAGUGGGAAGAUUUAUAGGUAGAGGCGACAAACCUACCGAGCCUGGUGAUAGCUGGUUGUCCAAGAUAGAAUCUUAGUUCAACUUUAAAUUUGCCCACAGAACCAAAUCCCCUUGUAAAUUUAACUGUUAGUCCAAAGAGGAACAGCUCUUUGGACACUAGGAAAAAACCUUGUAGAGAGAGUAAAAAAUUUAACACCCAUAGUAGGCCUAAAAGCAGCCACCAAUUAAGAAAGCGUUCAAGCUCAACACAAAAAUCCCAAACAUAUAACUGAACUCCUCACACCCAAUUGGACCAAUCUAUCACCCUAUAGAAGAACUAAUGUUAGUAUAAGUAACAUGAAAACAUUCUCCUCCGCAUAAGCCUGCGUCAGCAACUGACAAUUAACAGCCCAAUAUCUACAAUCAACCAACAAGUCAUUAUUACCCUCACUGUCAACCCAACACAGGCAUGCUCAUAAGGAAAGGUUAAAAAAAGUAAAAGGAACUCGGCAAAUCUUACCCCGCCUGUUUACCAAAAACAUCACCUCUAGCAUCACCAGUAUUAGAGGCACCGCCUGCCCAGUGACACAUGUUUAACGGCCGCAAAGGUAGCAUAAUCACUUGUUCCUUAAAUAGGGACCUGUAUGAAUGGCUCCACGAGGGUUCAGCUGUCUCUUACUUUUAACCAGUGAAAUUGACCUGCCCGUGAAGAGGCGGGCAUAACACAGCAAGACGAGAAGACCCUAUGGAGCUUUAAUUUAUUAAUGCAAACACCUGCAUUAAAAAUUUCGGUUGGGGCGACCUCGGAGCAGAACCCAACCUCCGAGCAGUACAUGCUAAGACUUCACCAGUCAAAGCGAACCUCAAUUGAUCCAAUAACUUGACCAACGGAACAAGUUACCCUAGGGAUAACAGCGCAAUCCUAUUCUAGAGUCCAUAUCAACAAUAGGGUUUACGACCUCGAUGUUGGAUCAGGACAUCCCGAUGGUGCAGCCGCUAUUAAAGGUUCGUUUGUUCAACGAUUAAAGUCCUACGUGAUCUGAGUUCAGACCGGAGUAAUCCAGGUCGGUUUCUAUCUACUUUAUUCCUCCCUGUACGAAAGGACAAGAGAAAUAAGGCCUACUUCACAAAGCGCCUUCCCCCGUAAAUGAUAUCAUCUCAACUUAGAUACCCACACCCAAGAACAGGGUU\", \"B\": \"AGAGUGUAGCUUAAAAGCACCCAACUUACACUUAGGAGAUUCAAUUGACGCUCUGA\", \"D\": \"ALAASNPHEVALSERTRPLYSSERARGTHRLYSTYRTHRILETHRPROVALLYSMETARGLYSSERGLYGLYARGASPHISTHRGLYARGILEARGVALHISGLYILEGLYGLYGLYHISLYSGLNARGTYRARGMETILEASPPHELEUARGPHEARGPROGLUGLUTHRLYSSERGLYPROPHEGLUGLULYSVALILEGLNVALARGTYRASPPROCYSARGSERALAASPILEALALEUVALALAGLYGLYSERARGLYSARGTRPILEILEALATHRGLUASNMETGLNALAGLYASPTHRILELEUASNSERASNHISILEGLYARGMETALAVALALAALAARGGLUGLYASPALAHISPROLEUGLYALALEUPROVALGLYTHRLEUILEASNASNVALGLUSERGLUPROGLYARGGLYALAGLNTYRILEARGALAALAGLYTHRCYSGLYVALLEULEUARGLYSVALASNGLYTHRALAILEILEGLNLEUPROSERLYSARGGLNMETGLNVALLEUGLUTHRCYSVALALATHRVALGLYARGVALSERASNVALASPHISASNLYSARGVALILEGLYLYSALAGLYARGASNARGTRPLEUGLYLYSARGPROASNSERGLYARGTRPHISARGLYSGLYGLYTRPALAGLYARGLYSILEARGPROLEUPROPROMETLYSSERTYRVAL\", \"E\": \"SERGLYTHRTRPTRPASPGLUHISLEUSERGLUGLUASNVALPROPHEILELYSGLNLEUVALSERASPGLUASPLYSALAGLNLEUALASERLYSLEUCYSPROLEULYSASPGLUPROTRPPROILEHISPROTRPGLUPROGLYSERPHEARGVALGLYLEUILEALALEULYSLEUGLYMETMETPROLEUTRPTHRLYSASPGLYGLNLYSHISVALVALTHRLEULEUGLNVALGLNASPCYSHISVALLEULYSTYRTHRSERLYSGLUASNCYSASNGLYLYSMETALATHRLEUSERVALGLYGLYLYSTHRVALSERARGPHEARGLYSALATHRSERILELEUGLUPHETYRARGGLULEUGLYLEUPROPROLYSGLNTHRVALLYSILEPHEASNILETHRASPASNALAALAILELYSPROGLYTHRPROLEUTYRALAALAHISPHEARGPROGLYGLNTYRVALASPVALTHRALALYSTHRILEGLYLYSGLYPHEGLNGLYVALMETLYSARGTRPGLYPHELYSGLYGLNPROALATHRHISGLYGLNTHRLYSTHRHISARGARGPROGLYALAVALALATHRGLYASPILEGLYARGVALTRPPROGLYTHRLYSMETPROGLYLYSMETGLYASNILETYRARGTHRGLUTYRGLYLEULYSVALTRPARGILEASNTHRLYSHISASNILEILETYRVALASNGLYSERVALPROGLYHISLYSASNCYSLEUVALLYSVALLYSASPSERLYSLEUPROALATYRLYSASPLEUGLYLYSASNLEUPROPHEPROTHRTYRPHEPROASPGLYASPGLUGLUGLULEUPROGLUASPLEUTYRASPGLUASNVALCYSGLNPROGLYALAPROSERILETHRPHEALA\", \"F\": \"GLUPROVALLEUARGLYSVALGLULEUPROVALPROTHRHISARGARGPROVALGLNALATRPVALGLUSERLEUARGGLYPHEGLUGLNGLUARGVALGLYLEUALAASPLEUHISPROASPVALPHEALATHRALAPROARGLEUASPILELEUHISGLNVALALAMETTRPGLNLYSASNPHELYSARGILESERTYRALALYSTHRLYSTHRARGALAGLUVALARGGLYGLYGLYARGLYSPROTRPPROGLNLYSGLYTHRGLYARGALAARGHISGLYSERILEARGSERPROLEUTRPARGGLYGLYGLYVALALAHISGLYPROARGGLYPROTHRSERTYRTYRTYRMETLEUPROMETLYSVALARGALALEUGLYLEULYSVALALALEUTHRVALLYSLEUALAGLNASPASPLEUHISILEMETASPSERLEUGLULEUPROTHRGLYASPPROGLNTYRLEUTHRGLULEUALAHISTYRARGARGTRPGLYASPSERVALLEULEUVALASPLEUTHRHISGLUGLUMETPROGLNSERILEVALGLUALATHRSERARGLEULYSTHRPHEASNLEUILEPROALAVALGLYLEUASNVALHISSERMETLEULYSHISGLNTHRLEUVALLEUTHRLEUPROTHRVALALAPHELEUGLUASPLYSLEULEUTRPGLNASPSERARGTYRARGPROLEUTYRPROPHESERLEUPROTYRSERASPPHEPRO\", \"H\": \"THRVALILEVALGLUARGTRPTRPLYSVALPROLEUALAGLYGLUGLYARGLYSPROARGLEUHISARGARGHISARGVALTYRLYSLEUVALGLUASPTHRLYSHISARGPROLYSGLUASNLEUGLULEUILELEUTHRGLNSERVALGLUASNVALGLYVALARGGLYASPLEUVALSERVALLYSLYSSERLEUGLYARGASNARGLEULEUPROGLNGLYLEUALAVALTYRALASERPROGLUASNLYSLYSLEUPHEGLUGLUGLULYSLEULEUARG\", \"I\": \"SERLYSALAVALTHRARGHISARGARGVALMETHISPHEGLNARGGLNLYSLEUMETALAVALTHRGLUTYRILEPROPROLYSPROALAILEHISPROSERCYSLEUPROGLYLEUILEARGLEULEUARGARGGLUILEALAALAVALPHEGLNASPASNARGMETILEALAVALCYSGLNASNVALALALEUSERALAGLUASPLYSLEULEUMETARGHISGLNLEUARGLYSHISLYSILELEUMETLYSVALPHEPROASNGLNVALLEULYSPROPHELEUGLUASPSERLYSTYRGLNASNLEULEUPROLEUPHEVALGLYHISASNMETLEULEUVALSERGLUGLUPROLYSVALLYSGLUMETVALARGILELEUARGTHRVALPROPHELEUPROLEULEUGLYGLYCYSILEASPASPTHRILELEUSERARGGLNGLYPHEILEASNTYRSERLYSLEU\", \"J\": \"GLYVALILEARGALAILEVALARGALAGLYLEUALAMETPROGLYPROPROLEUGLYPROVALLEUGLYGLNARGGLYVALSERILEASNGLNPHECYSLYSGLUPHEASNGLUARGTHRLYSASPILELYSGLUGLYILEPROLEUPROTHRLYSILELEUVALLYSPROASPARGTHRPHEGLUILELYSILEGLYGLNPROTHRVALSERTYRPHELEULYSALAALAALAGLYILEGLULYSGLYALAARGGLNTHRGLYLYSGLUVALALAGLYLEUVALTHRLEULYSHISVALTYRGLUILEALAARGILELYSALAGLNASPGLUALAPHEALALEUGLNASPVALPROLEUSERSERVALVALARGSERILEILEGLYSERALAARGSERLEUGLYILEARGVALVALLYS\", \"K\": \"SERSERPHESERARGALAPROGLNGLNTRPALATHRPHEALAARGILETRPTYRLEULEUASPGLYLYSMETGLNPROPROGLYLYSLEUALAALAMETALASERILEARGLEUGLNGLYLEUHISLYSPROVALTYRHISALALEUSERASPCYSGLYASPHISVALVALILEMETASNTHRARGHISILEALAPHESERGLYASNLYSTRPGLUGLNLYSVALTYRSERSERHISTHRGLYTYRPROGLYGLYPHEARGGLNVALTHRALAALAGLNLEUHISLEUARGASPPROVALALAILEVALLYSLEUALAILETYRGLYMETLEUPROLYSASNLEUHISARGARGTHRMETMETGLUARGLEUHISLEUPHEPROASPGLUTYRILEPROGLUASPILELEULYSASNLEUVALGLUGLULEUPROGLNPROARGLYSILEPROLYSARGLEUASPGLUTYRTHRGLNGLUGLUILEASPALAPHEPROARGLEUTRPTHRPROPROGLUASPTYRARGLEU\", \"L\": \"ALAILEGLNLYSMETTHRARGVALARGVALVALASPASNSERALALEUGLYASNSERPROTYRHISARGALAPROARGCYSILEHISVALTYRLYSLYSASNGLYVALGLYLYSVALGLYASPGLNILELEULEUALAILELYSGLYGLNLYSLYSLYSALALEUILEVALGLYHISCYSMETPROGLYPROARGMETTHRPROARGPHEASPSERASNASNVALVALLEUILEGLUASPASNGLYASNPROVALGLYTHRARGILELYSTHRPROILEPROTHRSERLEUARGLYSARGGLUGLYGLUTYRSERLYSVALLEUALAILEALAGLNASNPHEVAL\", \"M\": \"ALAARGALALEUASPLEULEUARGGLYLEUPROARGVALSERLEUALAASNLEULYSPROASNPROGLYSERLYSLYSPROGLUARGARGPROARGGLYARGARGARGGLYARGLYSCYSGLYARGGLYHISLYSGLYGLUARGGLNARGGLYTHRARGPROARGLEUGLYPHEGLUGLYGLYGLNTHRPROPHETYRILEARGILEPROLYSTYRGLYPHEASNGLUGLYHISSERPHEARGARGGLNTYRLYSPROLEUSERLEUASNARGLEUGLNTYRLEUILEASPLEUGLYARGVALASPPROSERGLNPROILEASPLEUTHRGLNLEUVALASNGLYARGGLYVALTHRILEGLNPROLEULYSARGASPTYRGLYVALGLNLEUVALGLUGLUGLYALAASPTHRPHETHRALALYSVALASNILEGLUVALGLNLEUALASERGLULEUALAILEALAALAILEGLULYSASNGLYGLYVALVALTHRTHRALAPHETYRASPPROARGSERLEUASPILEVALCYSLYSPROVALPROPHEPHELEUARGGLYGLNPROILEPROLYSARGMETLEUPROPROGLUGLULEUVALPROTYRTYRTHRASPALALYSASNARGGLYTYRLEUALAASPPROALALYSPHEPROGLUALAARGLEUGLULEUALAARGLYSTYRGLYTYRILELEUPROASPILETHRLYSASPGLULEUPHELYSMETLEUCYSTHRARGLYSASPPROARGGLNILEPHEPHEGLYLEUALAPROGLYTRPVALVALASNMETALAASPLYSLYSILELEULYSPROTHRASPGLUASNLEULEULYSTYRTYRTHRSER\", \"N\": \"LYSPROLYSLEUARGPHEILEGLUARGALAPROLEUVALPROLYSVALARGARGGLUPROLYSASNLEUSERASPILEARGGLYPROSERTHRGLUALATHRGLUPHETHRGLUGLYASNPHEALAILELEUALALEUGLYGLYGLYTYRLEUHISTRPGLYHISPHEGLUMETMETARGLEUTHRILEASNARGSERMETASPPROLYSASNMETPHEALAILETRPARGVALPROALAPROPHELYSPROILETHRARGLYSSERVALGLYHISARGMETGLYGLYGLYLYSGLYALAILEASPHISTYRVALTHRPROVALLYSALAGLYARGLEUVALVALGLUMETGLYGLYARGCYSGLUPHEGLUGLUVALGLNGLYPHELEUASPGLNVALALAHISLYSLEUPROPHEALAALALYSALAVALSERARGGLYTHRLEUGLULYSMETARGLYSASPGLNGLUGLUARGGLUARGASNASNGLNASNPROTRPTHRPHEGLUARGILEALATHRALAASNMETLEUGLYILEARGLYSVALLEUSERPROTYRASPLEUTHRHISLYSGLYLYSTYRTRPGLYLYSPHETYRMETPROLYSARGVAL\", \"O\": \"ILESERHISGLYARGVALPHEARGARGMETGLYLEUGLYPROGLUSERARGILEHISLEULEUARGASNLEULEUTHRGLYLEUVALARGHISGLUARGILEGLUALAPROTRPALAARGVALASPGLUMETARGGLYTYRALAGLULYSLEUILEASPTYRGLYLYSLEUGLYASPTHRASNGLUARGALAMETARGMETALAASPPHETRPLEUTHRGLULYSASPLEUILEPROLYSLEUPHEGLNVALLEUALAPROARGTYRLYSASPGLNTHRGLYGLYTYRTHRARGMETLEUGLNILEPROASNARGSERLEUASPARGALALYSMETALAVALILEGLUTYRLYSGLYASNCYSLEUPROPROLEUPROLEUPROARGARGASPSERHISLEUTHRLEULEUASNGLNLEULEUGLNGLYLEUARGGLNASPLEUARGGLNSERGLN\", \"P\": \"VALGLUASNGLUALAVALALAPROGLUPHETHRASNARGASNPROARGASNLEUGLULEULEUSERVALALAARGLYSGLUARGGLYTRPARGTHRVALPHEPROSERARGGLUPHETRPHISARGLEUARGVALILEARGTHRGLNHISHISVALGLUALALEUVALGLUHISGLNASNGLYLYSVALVALVALSERALASERTHRARGGLUTRPALAILELYSLYSHISLEUTYRSERTHRARGASNVALVALALACYSGLUSERILEGLYARGVALLEUALAGLNARGCYSLEUGLUALAGLYILEASNPHEMETVALTYRGLNPROTHRPROTRPGLUALAALASERASPSERMETLYSARGLEUGLNSERALAMETTHRGLUGLYGLYVALVALLEUARGGLUPROGLNARGILETYR\", \"Q\": \"ARGPHELEUSERPROGLUPHEILEPROARGARGGLYARGTHRASPPROLEULYSPHEGLNILEGLUARGLYSASPMETLEUGLUARGARGLYSVALLEUHISILEPROGLUPHETYRVALGLYSERILELEUARGVALTHRTHRALAASPPROTYRALASERGLYLYSILESERGLNPHELEUGLYILECYSILEGLNARGSERGLYARGGLYLEUGLYALATHRPHEILELEUARGASNVALILEGLUGLYGLNGLYVALGLUILECYSPHEGLULEUTYRASNPROARGVALGLNGLUILEGLNVALVALLYSLEUGLULYSARGLEUASPASPSERLEULEUTYRLEUARGASPALALEUPROGLUTYRSERTHRPHEASPVALASNMETLYSPROVALVALGLNGLUPROASNGLNLYSVALPROVALASNGLULEULYSVALLYSMETLYSPROLYSPROTRPSERLYSARGTRPGLUARGPROASNPHEASNILELYSGLYILEARGPHEASPLEUCYSLEUTHRGLUGLNGLNMETLYSGLUALAGLNLYSTRPASNGLNPROTRPLEUGLUPHEASPMETMETARGGLUTYRASPTHRSERLYSILEGLUALAALAILETRPLYSGLUILEGLUALASERLYS\", \"R\": \"LEUARGASNARGVALTHRASPARGTYRPHEARGILEGLNGLUVALLEULYSHISALAARGHISPHEARGGLYARGLYSASNARGCYSTYRARGLEUALAVALARGTHRVALILEARGALAPHEVALLYSCYSTHRLYSALAARGTYRLEULYSLYSLYSASNMETARGTHRLEUTRPILEASNARGILETHRALAALASERGLNGLUHISGLYLEULYSTYRPROALALEUILEGLYASNLEUVALLYSCYSGLNVALGLULEUASNARGLYSVALLEUALAASPLEUALAILETYRGLUPROLYSTHRPHELYSSERLEUALAALALEUALASERARGARGARGHISGLUGLYPHEALAALAALALEUGLYASPGLYLYSGLUPROGLUGLYILEPHESERARGVALVALGLNTYRHIS\", \"S\": \"GLYTYRVALPROLYSTHRSERLEUSERSERPROPROTRPPROGLUVALVALLEUPROASPPROVALGLUGLUTHRARGHISHISALAGLUVALVALLYSLYSVALASNGLUMETILEVALTHRGLYGLNTYRGLYARGLEUPHEALAVALVALHISPHEALASERARGGLNTRPLYSVALTHRSERGLUASPLEUILELEUILEGLYASNGLULEUASPLEUALACYSGLYGLUARGILEARGLEUGLULYSVALLEULEUVALGLYALAASPASNPHETHRLEULEUGLYLYSPROLEULEUGLYLYSASPLEUVALARGVALGLUALATHRVALILEGLULYSTHRGLUSERTRPPROARGILEILEMETARGPHEARGLYSARGLYSASNPHELYSLYSLYSARGILEVALTHRTHRPROGLNTHRVALLEUARGILEASNSERILEGLUILEALAPROCYSLEU\", \"T\": \"ILESERARGLYSTRPGLULYSLYSASNLYSILEVALTYRPROPROGLNLEUPROGLYGLUPROARGARGPROALAGLUILETYRHISCYSARGARGGLNILELYSTYRSERLYSASPLYSMETTRPTYRLEUALALYSLEUILEARGGLYMETSERILEASPGLNALALEUALAGLNLEUGLUPHEASNASPLYSLYSGLYALALYSILEILELYSGLUVALLEULEUGLUALAGLNASPMETALAVALARGASPHISASNVALGLUPHEARGSERASNLEUTYRILEALAGLUSERTHRSERGLYARGGLYGLNCYSLEULYSARGILEARGTYRHISGLYARGGLYARGPHEGLYILEMETGLULYSVALTYRCYSHISTYRPHEVALLYSLEUVALGLUGLYPROPROPROPROPROGLUPROPROLYSTHRALAVALALAHISALALYSGLUTYRILEGLNGLNLEUARGSERARGTHRILEVALHISTHRLEU\", \"U\": \"ALAARGASNVALVALTYRPROLEUTYRARGLEUGLYGLYPROGLNLEUARGVALPHEARGTHRASNPHEPHEILEGLNLEUVALARGPROGLYVALALAGLNPROGLUASPTHRVALGLNPHEARGILEPROMETGLUMETTHRARGVALASPLEUARGASNTYRLEUGLUGLYILETYRASNVALPROVALALAALAVALARGTHRARGVALGLNHISGLYSERASNLYSARGARGASPHISARGASNVALARGILELYSLYSPROASPTYRLYSVALALATYRVALGLNLEUALAHISGLYGLNTHRPHETHRPHEPROASPLEUPHEPROLEUTYRSERMETLEUGLUGLUGLUARGGLNGLNARGGLNSERSERASPPROARGARGGLYGLYVALPROSERTRPPHEGLYLEU\", \"V\": \"LEUPROPROHISTYRARGTYRGLYMETSERPROPROGLYSERVALALAASPLYSARGLYSASNPROPROTRPILEARGARGARGPROVALVALVALGLUPROILESERASPGLUASPTRPTYRLEUPHECYSGLYASPTHRVALGLUILELEUGLUGLYLYSASPALAGLYLYSGLNGLYLYSVALVALGLNVALILEARGGLNARGASNTRPVALVALVALGLYGLYLEUASNTHRHISTYRARGTYRILEGLYLYSTHRMETASPTYRARGGLYTHRMETILEPROSERGLUALAPROLEULEUHISARGGLNVALLYSLEUVALASPPROMETASPARGLYSPROTHRGLUILEGLUTRPARGPHETHRGLUALAGLYGLUARGVALARGVALSERTHRARGSERGLYARGILEILEPROLYSPROGLUTHRTRPILEASPGLYPROLYSASPTHRSERVALGLUASPALALEUGLUARGTHRTYRVALPROCYSLEULYSTHRLEUGLNGLUGLUVALMETGLUALAMETGLYILELYSGLUTHRARGLYSTYRLYSLYSVALTYRTRPTYR\", \"W\": \"LYSASNLEUGLYGLYLYSSERSERGLYARGARGGLNGLYILELYSLYSMETGLUGLYHISTYRVALHISALAGLYASNILEILEALATHRGLNARGHISPHEARGTRPHISPROGLYALAHISVALGLYVALGLYLYSASNLYSCYSLEUTYRALALEUGLUGLUGLYILEVALARGTYRTHRLYSGLUVALTYRVALPROHISPROARGASNTHRGLUALAVALASPLEUILETHRARGLEUPROLYSGLYALAVALLEUTYRLYSTHRPHEVALHISVALVALPROALALYSPROGLUGLYTHRPHELYSLEUVALALAMETLEU\", \"X\": \"PROLEUHISLYSTYRPROVALTRPLEUTRPLYSARGLEUGLNLEUARGGLUGLYILECYSSERARGLEUPROGLYHISTYRLEUARGSERLEUGLUGLUGLUARGTHRPROTHRPROVALHISTYRARGPROHISGLYALALYSPHELYSILEASNPROLYSASNGLYGLNARGGLUARGVALGLUASPVALPROILEPROILETYRPHEPROPROGLUSERGLNARGGLYLEUTRPGLYGLYGLUGLYTRPILELEUGLYGLNILETYRALAASNASNASPLYSLEUSERLYSARGLEULYSLYSVALTRPLYSPROGLNLEUPHEGLUARGGLUPHETYRSERGLUILELEUASPLYSLYSPHETHRVALTHRVALTHRMETARGTHRLEUASPLEUILEASPGLUALATYRGLYLEUASPPHETYRILELEULYSTHRPROLYSGLUASPLEUCYSSERLYSPHEGLYMETASPLEULYSARGGLYMETLEULEUARGLEUALAARGGLNASPPROGLNLEUHISPROGLUASPPROGLUARGARGALAALAILETYRASPLYSTYRLYSGLUPHEALAILEPROGLUGLUGLUALAGLUTRPVALGLYLEUTHRLEUGLUGLUALAILEGLULYSGLNARGLEULEUGLUGLULYSASPPROVALPROLEUPHELYSILETYRVALALAGLULEUILEGLNGLNLEUGLNGLNGLNALALEUSER\", \"Y\": \"GLYLEUGLUGLUPHEPHEASPASPPROLYSASNTRPGLYGLNGLULYSVALLYSSERGLYALAALATRPTHRCYSGLNGLNLEUARGASNLYSSERASNGLUASPLEUHISLYSLEUTRPTYRVALLEULEULYSGLUARGASNMETLEULEUTHRLEUGLUGLNGLUALALYSARGGLNARGLEUPROMETPROSERPROGLUARGLEUASPLYSVALVALASPSERMETASPALALEUASPLYSVALVALGLNGLUARGGLUASPALALEUARGLEULEUGLNTHRGLYGLNGLUARGALAARGPROGLYALATRPARGARGASPILEPHEGLYARGILEILETRPHISLYSPHELYSGLNTRPVALILEPROTRPHISLEUASNLYSARGTYRASNARGLYSARGPHEPHEALALEUPROTYRVALASPHISPHELEUARGLEUGLUARGGLULYSARGALAARGILELYSALAARGLYSGLUASNLEUGLUARGLYSLYSALALYSILELEULEULYSLYSPHE\", \"Z\": \"LYSPHETHRARGSERARGILEPROGLULYSVALPHEGLNALASERPROGLUASPHISGLULYSTYRGLYGLYASPPROGLNASNPROHISLYSLEUHISILEVALTHRARGILELYSSERTHRARGARGARGPROTYRTRPGLULYSASPILEILELYSMETLEUGLYLEUGLULYSALAHISTHRPROGLNVALHISLYSASNILEPROSERVALASNALALYSLEULYSVALVALLYSHISLEUILEARGILELYSPROLEULYSLEUPROGLNGLYLEUPROALAGLUGLUASNMETSERASNTHRCYSLEULYSSERTHRGLYGLULEUVALVALGLNTRPHISLEULYSPROVAL\", \"0\": \"ALAALAPROLYSASNARGARGTHRILEGLUVALASNARGCYSARGARGARGASNPROGLNLYSLEUILELYSVALLYSASNASNILEASPVALCYSPROGLUCYSGLYHISLEULYSGLNLYSHISVALLEUCYSALATYRCYSTYRGLULYSVALCYSLYSGLUTHRALAGLUILEARGARGGLNILEGLYLYSGLNGLUGLYGLYPROPHELYSALAPROTHRILEGLUTHRVALVALLEUTYRTHRGLYGLUTHRPROSERGLUGLNASPGLNGLYLYSARGILEILEGLUARGASPARGLYSARGPROSERTRPPHETHR\", \"1\": \"LYSASNILELEUVALARGMETVALSERGLUALAGLYTHRGLYPHECYSPHEASNTHRLYSARGASNARGLEUARGGLULYSLEUTHRLEULEUHISTYRASPPROVALVALLYSGLNARGVALLEUPHEVALGLULYSLYSLYSILEARGSERLEU\", \"2\": \"ALAARGGLYASNGLUTYRGLNPROSERASNILELYSARGLYSASNLYSHISGLYTRPVALARGARGLEUSERTHRPROALAGLYVALGLNVALILELEUARGARGMETLEULYSGLYARGLYSSERLEUSERHIS\", \"3\": \"LEUTHRTYRPHESERALAARGLYSGLYLYSARGLYSTHRVALLYSALAVALILEASPARGPHELEUARGLEUHISCYSGLYLEUTRPVALARGARGLYSALAGLYTYRLYSLYSLYSLEUTRPLYSLYSTHRPROALAARGLYSLYSARGLEUARGGLUPHEVALPHECYSASNLYSTHRGLNSERLYSLEULEUASPLYSMETTHRTHRSERPHETRPLYSARGARGASNTRPTYRVALASPASPPROTYRGLNLYSTYRHISASPARGTHRASNLEULYSVAL\", \"4\": \"PHELYSASNLYSTHRVALLEULYSLYSARGCYSLYSASPCYSTYRLEUVALLYSARGARGGLYARGTRPTYRVALTYRCYSLYSTHRHISPROARGHISLYSGLNARGGLN\", \"5\": \"TYRGLUTRPGLYVALARGSERTHRARGLYSSERGLUPROPROPROLEUASPARGVALTYRGLUILEPROGLYLEUGLUPROILETHRPHEALAGLYLYSMETHISPHEVALPROTRPLEUALAARGPROILEPHEPROPROTRPASPARGGLYTYRLYSASPPROARGPHETYRARGSERPROPROLEUHISGLUHISPROLEUTYRLYSASPGLNALACYSTYRILEPHEHISHISARGCYSARGLEULEUGLUGLYVALLYSGLNALALEUTRPLEUTHRLYSTHRLYSLEUILEGLUGLYLEUPROGLULYSVALLEUSERLEUVALASPASPPROARGASNHISILEGLUASNGLNASPGLUCYSVALLEUASNVALILESERHISALAARGLEUTRPGLNTHRTHRGLUGLUILEPROLYSARGGLUTHRTYRCYSPROVALILEVALASPASNLEUILEGLNLEUCYSLYSSERGLNILELEULYSHISPROSERLEUALAARGARGILECYSVALGLNASNSERTHRPHESERALATHRTRPASNARGGLUSERLEULEULEUGLNVALARGGLYSERGLYGLYALAARGLEUSERTHRLYSASPPROLEUPROTHRILEALASERARGGLUGLUILEGLUALATHRLYSASNHISVALLEUGLUTHRPHETYRPROILESERPROILEILEASPLEUHISGLUCYSASNILETYRASPVALLYSASNASPTHRGLYPHEGLNGLUGLYTYRPROTYRPROTYRPROHISTHRLEUTYRLEULEUASPLYSALAASNLEUARGPROHISARGLEUGLNPROASPGLNLEUARGALALYSMETILELEUPHEALAPHEGLYSERALALEUALAGLNALAARGLEULEUTYRGLYASNASPALALYSVALLEUGLUGLNPROVALVALVALGLNSERVALGLYTHRASPGLYARGVALPHEHISPHELEUVALPHEGLNLEUASNTHRTHRASPLEUASPCYSASNGLUGLYVALLYSASNLEUALATRPVALASPSERASPGLNLEULEUTYRGLNHISPHETRPCYSLEUPROVALILEVALGLUPROVALGLYPROVALGLYPHELYSPROGLUTHRPHEARGLYSPHELEUALALEUTYRLEUHISGLYALA\", \"6\": \"ARGARGTHRPROPROLEUGLYPROMETPROASNSERASPILEASPLEUSERASNLEUGLUARGLEUGLULYSTYRARGSERPHEASPARGTYRARGARGARGALAGLUGLNGLUALAGLNALAPROHISTRPTRPARGTHRTYRARGGLUTYRPHEGLYARGTHRGLNGLNLEULEUGLUARGLYSGLNALAILEGLNGLULEUARGALAASNVALGLUGLUGLUARGALAALAARGLEUARGTHRALASERVALPROLEUASPALAVALARGALAGLUTRPGLUARGTHRCYSGLYPROTYRHISLYSGLNARGLEUALAGLUTYRTYRGLYLEUTYRARGASPLEUPHEHISGLYALATHRPHEVALPROARGVALPROLEUHISVALALATYRALAVALGLYGLUASPASPLEUMETPROVALTYRCYSGLYASNGLUVALTHRPROTHRGLUALAALAGLNALAPROGLUVALTHRTYRGLUALAGLULEUTRPTHRLEULEULEUTHRSERLEUASPGLYHISLEULEUGLUPROASPALAGLUTYRLEUHISTRPLEULEUTHRASNILEPROGLYASNARGVALALAGLUGLYGLNVALTHRCYSPROTYRLEUPROPROPHEPROALAARGGLYSERGLYILEHISARGLEUALAPHELEULEUPHELYSGLNASPGLNPROILEASPPHESERTYRGLNLEUALAGLNARGTHRPHEARGTHRPHEASPPHETYRLYSLYSHISGLNGLUTHRMETTHRPROALAGLYLEUSERPHEPHEGLNCYSARGTRPASPASPSERVALTHRTYRILEPHEHISGLNLEULEUASPMETARGGLUPROVALPHEGLUPHEVALARGPROPROPROTYRHISPROLYSGLNLYSARGPHEPROHISARGGLNPROLEUARGTYRLEUASPARGTYRARGASPSERHISGLUPROTHRTYRGLYILETYR\", \"7\": \"SERPROTHRGLULEUTHRGLUMETARGASNASPLEUPHEASNLYSGLULYSALAARGGLNLEUSERLEUTHRPROARGTHRGLULYSILEGLUVALLYSHISVALGLYLYSTHRASPPROGLYTHRVALPHEVALMETASNLYSASNILESERTHRPROTYRSERCYSALAMETHISLEUSERGLUTRPTYRCYSARGLYSSERILELEUALALEUVALASPGLYGLNPROTRPASPMETTYRLYSPROLEUTHRLYSSERCYSGLUILELYSPHELEUTHRPHELYSASPCYSASPPROGLYGLUVALASNLYSALATYRTRPARGSERCYSALAMETMETMETGLYCYSVALILEGLUARGALAPHELYSASPGLUTYRMETVALASNLEUVALARGALAPROGLUVALPROVALILESERGLYALAPHECYSTYRASPVALVALLEUASPSERLYSLEUASPGLUTRPMETPROTHRLYSGLUASNLEUARGSERPHETHRLYSASPALAHISALALEUILETYRLYSASPLEUPROPHEGLUTHRLEUGLUVALGLUALALYSVALALALEUGLUILEPHEGLNHISSERLYSTYRLYSVALASPPHEILEGLUGLULYSALASERGLNASNPROGLUARGILEVALLYSLEUHISARGILEGLYASPPHEILEASPVALSERGLUGLYPROLEUILEPROARGTHRSERILECYSPHEGLNTYRGLUVALSERALAVALHISASNLEUGLNPROTHRGLNPROSERLEUILEARGARGPHEGLNGLYVALSERLEUPROVALHISLEUARGALAHISPHETHRILETRPASPLYSLEULEUGLUARGSERARGLYS\", \"8\": \"ILEPROILEGLUASPPHEILETHRPROLEULYSPHELEUASPLYSALAARGGLUARGPROGLNVALGLULEUTHRPHEGLUGLUTHRGLUARGARGALALEULEULEULYSLYSTRPSERLEUTYRLYSGLNGLNGLUARGLYSMETGLUARGASPTHRILEARGALAMETLEUGLUALAGLNGLNGLUALALEUGLUGLULEUGLNLEUGLUSERPROLYSLEUHISALAGLUALAILELYSARGASPPROASNLEUPHEPROPHEGLULYSGLUGLYPROHISTYRTHRPROPRO\", \"9\": \"ALAASPARGMETSERLYSTRPTHRSERLYSARGGLYPROARGSERPHEARGGLYARGLYSGLYARGGLYALALYSGLYILEGLYPHELEUTHRSERGLYTRPARGPHEVALGLNILELYSGLUMETVALPROGLUPHEVALVALPROASPLEUTHRGLYPHELYSLEULYSPROTYRVALSERTYRLEUALAPROGLUSERGLUGLUTHRPROLEUTHRALAALAGLNLEUPHESERGLUALAVALALAPROALAILEGLULYSASPPHELYSASPASNLEUGLULYSTYRGLYPHEGLUPROTHRGLNGLUGLYLYSLEUPHEGLNLEUTYRPROARGASNPHELEUARG\", \"a\": \"THRTYRSERPROLEUPROASPASPTYRASNCYSASNVALGLULEUALALEUTHRSERASPGLYARGTHRILEVALCYSTYRHISPROSERVALASPILEPROTYRGLUHISTHRLYSPROILEPROARGGLUGLUGLYPROMETILEGLUGLNLEUSERLYSMETPHEPHETHRTHRLYSHISARGTRPTYRPROHISGLYARGTYRHISARGCYSARGLYSASNLEUASNPROPROLYSASPARG\", \"b\": \"THRALAARGGLYTHRPROSERARGPHELEUALASERVALLEUHISASNGLYLEUGLYARGTYRVALGLNGLNLEUGLNARGLEUSERPHESERVALSERARGASPGLYALASERSERARGGLYALAARGGLUPHEVALGLUARGGLUVALILEASPPHEALAARGARGASNPROGLYVALVALILETYRVALASNSERARGPROCYSCYSVALPROARGVALVALALAGLUTYRLEUASNGLYALAVALARGGLUGLUSERILEHISCYSLYSSERVALGLUGLUILESERTHRLEUVALGLNLYSLEUALAASPGLNSERGLYLEUASPVALILEARGILEARGLYSPROPHEHISTHRASPASNPROSERILEGLNGLYGLNTRPHISPROPHETHRASNLYSPROTHRTHRPHEARGGLYLEUARGPROARGGLUVALGLN\", \"c\": \"VALLYSLYSGLYPHEARGALAALAPHEARGPHEGLNLYSGLULEUGLUARGGLNARGLEULEUARGCYSPROPROPROPROVALARGARGSERGLULYSPROASNTRPASPTYRHISALAGLUILEGLNALAPHEGLYHISARGLEUGLNGLUASNPHESERLEUASPLEULEULYSTHRALAPHEVALASNSERCYSTYRILELYSSERGLUGLUALALYSARGGLNGLNLEULYSSERASNGLNGLULEUSERGLUGLNGLYTHRSERPHESERGLNTHRCYSLEUTHRGLNPHELEUGLUASPGLUTYRPROASPMETPROTHRGLUGLYILELYSASNLEUVALASPPHELEUTHRGLYGLUGLUVALVALCYSHISVALALAARGASNLEUALAVALGLUGLNLEUTHRLEUSERGLUGLUPHEPROVALPROPROALAVALLEUGLNGLNTHRPHEPHEALAVALILEGLYALALEULEUGLNSERSERGLYPROGLUARGTHRALALEUPHEILEARGASPPHELEUILETHRGLNMETTHRGLYLYSGLULEUPHEGLUMETTRPLYSILEILEASNPROMETGLYLEULEUVALGLUGLULEULYSLYSARGASNVALSERALAPROGLUSERARGLEUTHRARGGLNSERGLYGLYTHRTHRALALEUPROLEUTYRPHEVALGLYLEUTYRCYSASPLYSLYSLEUILEALAGLUGLYPROGLYGLUTHRVALLEUVALALAGLUGLUGLUALAALAARGVALALALEUARGLYSLEUTYRGLYPHETHRGLUASNARGARGPROTRPASNTYR\", \"d\": \"PHELYSTHRGLULYSGLUPHEMETGLNHISALAARGLYSALAGLYLEUVALILEPROPROGLULYSSERASPARGSERILEHISLEUALACYSTHRALAGLYILEPHEASPALATYRVALPROPROALASERGLNVALSERILEARGARGILELYSASPTYRASPALAASNPHELYSILELYSASPPHEPROGLULYSALALYSASPILEPHEILEGLUALAHISLEUCYSLEUASNASNSERASPHISASPARGLEUHISTHRLEUVALTHRGLUHISCYSPHEPROASPMETTHRTRPASPILELYSTYRLYSTHRVALARGTRPSERPHEVALGLUSERLEUGLUPROSERHISVALVALGLNVALARGCYSASNVALTYRGLYGLNILETHRVALARGMETHISTHRARGGLNTHRLEUALAILETYRASPARGPHEGLYARGLEUMETTYRGLYGLNGLUASPVALPROLYSASPVALLEUGLUTYRVALVALPHEGLULYSGLNLEUPROTYRGLYSERTRPARGMETHISTHRLYSILEVALPROPROTRPALAPROPROLYSGLNPROILELEULYSTHRVALMETILEPROGLYPROGLNLEULYSPROGLUGLUGLUTYRGLU\", \"e\": \"SERPROTRPARGLEULEUGLYALALEUCYSLEUGLNARGPROPROVALVALSERLYSPROLEUTHRPROLEUGLNGLUGLUMETALASERLEULEUGLNGLNILEGLUILEGLUARGSERLEUTYRSERASPHISGLULEUARGALALEUASPGLUASNGLNARGLEUALALYSLYSLYSALAASPLEUALAGLNASPLEUGLUASPMETTRPGLUGLNLYSPHELEUGLNPHELYSLEUGLYALAARGILETHRGLUALAASPGLULYSASNASPARGTHRSERLEUASNARGLYSLEUASPARGASNLEUVALLEULEUVALARGGLULYSPHEGLYASPGLNASPVALTRPILELEUPROGLNALAGLUTRPGLNPROGLYGLUTHRLEUARGGLYTHRALAGLUARGTHRLEUALATHRLEUSERGLUASNASNMETGLUALALYSPHELEUGLYASNALAPROCYSGLYHISTYRTHRPHELYSPHELEUGLYALALYSVALPHEPHEPHELYSALALEULEULEUTHRGLYASPPHESERGLNALAGLYASNLYSGLYHISHISVALTRPVALTHRLYSASPGLULEUGLYASPTYRLEULYSPROLYSTYRLEUALAGLNVALARGARGPHEVALSERASPLEU\", \"f\": \"TYRLYSTHRLYSPROTHRHISGLYILEGLYLYSTYRLYSHISLEUILELYSALAGLUVALARGALAILEASNLEUGLYTHRASPTYRGLUTYRGLYVALLEUASNILEHISLEUTHRALATYRASPMETTHRLEUALAGLUSERTYRALAGLNTYRVALHISASNLEUCYSASNSERLEUSERILELYSVALGLUGLUSERTYRALAMETPROTHRLYSTHRILELEUTHRTHRHISGLUARGVALVALGLNILESERGLYLEUSERALATHRPHEALAGLUILEPHELEUGLUILEILEGLNSERSERLEUPROGLUGLYVALARGLEUSERVALLYSGLUHISTHR\", \"g\": \"PHEVALGLUSERVALASPGLUTYRGLNPHEVALGLUARGLEULEUPROALATHRARGILEPROASPPROPROLYSHISGLUHISTYRPROTHRPROSERGLYTRPGLNPROPROARGASPPROPROPROASNLEUPROTYRPHEVALARGARGSERARGMETHISASNILEPROVALTYRLYSASPILETHRHISGLYASNARGGLNMETTHRVALILEARGLYSVALGLUGLYASPILETRPALALEUGLNLYSASPVALGLUASPPHELEUSERPROLEULEUGLYLYSTHRPROVALTHRGLNVALASNGLUVALTHRGLYTHRLEUARGILELYSGLYTYRPHEASPGLNGLULEULYSALATRPLEULEUGLULYSGLYPHE\", \"h\": \"ARGSERARGALATYRTHRPROPROGLUASPLEUGLNSERARGLEUGLUSERTYRVALLYSGLUVALPHELEUPROSERASNTRPGLNASPILESERLEUGLUASPSERARGLEULYSPHEASNLEULEUALAHISLEUALAASPASPLEUGLYHISVALVALPROASNSERARGLEUHISGLNMETCYSARGVALARGASPVALLEUASPPHETYRASNVALPROILEGLNASPARGSERLYSPHEASPGLULEUSERALASERASNLEUPROPROASNLEULYSILETHRTRPSERTYR\", \"i\": \"ILEGLYILEARGLEUTHRLEUPROPROPROLYSVALVALASPARGTRPASNGLULYSARGALAMETPHEGLYVALTYRASPASNILEGLYILELEUGLYASNPHEGLULYSHISPROLYSGLULEUILEARGGLYPROILETRPLEUARGGLYTRPLYSGLYASNGLULEUGLNARGCYSILEARGLYSARGLYSMETVALGLYSERARGMETPHEALAASPASPLEUHISASNLEUASNLYSARGILEARGTYRLEUTYRLYSHISPHEASNARGHISGLYLYSPHEARG\", \"j\": \"GLYGLYGLNTRPARGLEUGLNGLNGLYLEUALAALAASNPROSERGLYTYRGLYPROLEUTHRGLULEUPROASPTRPSERTYRALAASPGLYARGPROALAPROPROMETLYSGLYGLNLEUARGARGLYSALAGLUARGGLUTHRPHEALAARGARGVALVALLEULEUSERGLNGLUMETASPALAGLYLEUGLNALATRPGLNLEUARGGLNGLNLYSLEUGLNGLUGLUGLNARGLYSGLNGLUASNALA\", \"k\": \"VALLYSGLNVALARGVALGLNPHECYSPROPHEGLULYSASNVALGLUSERTHRARGTHRPHELEUGLNTHRVALSERSERGLULYSVALARGSERTHRASNLEUASNCYSSERVALILEALAASPVALARGGLUPROCYSVALASPVALLEUPHEGLYASPGLYHISARGLEUILEMETARGGLYALAHISLEUTHRALALEUGLUMETLEUTHRALAPHEALASERHISILEARGALA\", \"l\": \"SERARGGLUTYRTRPARGARGLEUARGLYSGLNASNILETRPARGHISASNARGLEUSERLYSASNLYS\", \"m\": \"ASPSERSERARGALASERLEUTHRARGVALHISARGGLNALATYRALAARGLEUTYRPROVALLEULEUVALLYSGLNASPGLYSERTHRILEHISILEARGTYRARGGLUPROARGARGMETLEUALAMETPRO\", \"o\": \"ILEPROGLYARGGLNTRPILEGLYLYSHISARGARGPROARGPHEVALSERLEUARGALALYSGLNASNMETILEARGARGLEUGLUILEGLUALAGLUASNHISTYRTRPLEUSERMETPROTYRMETTHRARGGLUGLNGLUARGGLYHISALAALAVALARGARGARGGLUALAPHEGLUALAILELYSALAALAALATHRSERLYSPHEPROPROHISARGPHEILEALAASPGLNLEUASPHISLEUASNVALTHRLYSLYSTRPSER\", \"p\": \"GLUPHELYSSERILETYRSERLEUASPLYSLEUTYRPROGLUSERGLNGLYSERASPTHRALATRPARGVALASPILEPROLEUASPARGLEUTHRILESERTYRCYSARGSERVALASNSERLYSALAGLUVALARGPHEHISLEUALATHRALAGLUTRPILEALAGLUPROVALARGGLNLYSILEALAILETHRHISLYSASNLYSILEASNARGLEUGLYGLULEUILELEUTHRSERGLUSERSERARGTYRGLNPHEARGASNLEUALAASPCYSLEUGLNLYSILEARGASPMETILETHRGLUALASERGLNLYSLEUHISARGILEARGILEGLUASNMETASNARGGLUARGLEUARGGLNLYSARGILE\", \"q\": \"TYRARGALAARGPROPROPROARGARGARGPROGLYPROARGTRPPROASPPROGLUASPLEULEUTHRPROARGTRPGLNLEUGLYPROARGTYRALAALALYSGLNPHEALAARGTYRGLYALAALASERGLYVALVALPROGLYSERLEUTRPPROSERPROGLUGLNLEUARGGLULEUGLUALAGLUGLUARGGLUTRPTYRPROSERLEUALATHRMETGLNGLUSERLEUARGVALLYSGLNLEUALAGLUGLUGLNLYSARGARGGLUARGGLUGLNHISILEALAGLUCYSMETALALYSMETPROGLNMETILEVALASNTRPGLNGLNGLNGLNARGGLUASNTRPGLULYSALAGLNALAASPLYSGLUARG\", \"r\": \"PHEARGGLUVALVALGLUTHRTHRILEILEGLUGLYARGILETHRALATHRPROLYSGLUSERPROASNPROPROASNPROSERGLYGLNCYSPROILECYSARGTRPASNLEULYSHISLYSTYRASNTYRASPASPVALLEULEULEUSERGLNPHEILEARGPROHISGLYGLYMETLEUPROARGLYSILETHRGLYLEUCYSGLNGLUGLUHISARGLYSILEGLUGLUCYSVALLYSMETALAHISARGALAGLYLEULEUPROASNHISARGPROARGGLNLEUASNARGTYRLEUTHRARGTRPALAPROGLYSERVALLYSPROILETYRLYSLYSGLYPROARGTRPASNARGVALARGMETPROVALGLYSERPROLEULEUARGASPASNVALCYSTYRSERARGTHRPROTRPLYSLEUTYRHIS\", \"s\": \"VALALAARGTYRPROPROILEVALALASERMETTHRALAASPSERLYSALAALAARGLEUARGARGILEGLUARGTRPGLNALATHRVALHISALAALAGLUSERVALASPGLULYSLEUARGILELEUTHRLYSMETGLNPHEMETLYSTYRMETVALTYRPROGLNTHRPHEALALEUASNALAASPARGTRPTYRGLNTYRPHETHRLYSTHRVALPHELEUSERGLYLEUPROALAALALEUARGALAVALALACYSASPCYSLEULEUGLNGLUHISPHETYRLEUARGARGARGARGARGVALHISARGTYRGLUGLUSERGLUVALILESERLEUPROPHELEUASPGLNLEUVALSERTHRLEUVALGLYLEULEUSERPROHISASNPROALALEUALAALAALAALALEUASPTYRARGCYSPROVALHISPHETYRTRPVALARGGLYGLUGLUILEILEPROARGGLYHISARGARGGLYARGILEASPASPLEUARGTYRGLNILEASPASPLYSPROASNASNGLNILEARGILESERLYSGLNLEUALAGLUPHEVALPROLEUASPTYRSERVALPROILEGLUILEPROTHRILELYSCYSLYSPROASPLYSLEUPROLEUPHELYSARGGLNTYRGLUASNHISILEPHEVALGLYSERLYSTHRALAASPPROCYSCYSTYRGLYHISTHRGLNPHEHISLEULEUPROASPLYSLEUARGARGGLUARGLEULEUARGGLNASNCYSALAASPGLNILEGLUVALVALPHEARGALAASNALAILEALASERLEUPHEALATRPTHRGLYALAGLNALAMETTYRGLNGLYPHETRPSERGLUALAASPVALTHRARGPROPHEVALSERGLNALAVALILETHRASPGLYLYSTYRPHESERPHEPHECYSTYRGLNLEUASNTHRLEUALALEUTHRTHRGLNALAASPGLNASNASNPROARGLYSASNILECYSTRPGLYTHRGLNSERLYSPROLEUTYRGLUTHRILEGLUASPASNASPVALLYSGLYPHEASNASPASPVALLEULEUGLNILEVALHISPHELEULEUASNARGPROLYS\", \"t\": \"UNKUNKUNKUNKUNKUNKUNKUNKUNKUNKUNKUNKUNKUNKUNKUNKUNKUNKUNKUNKUNKUNKUNKUNKUNKUNKUNKUNK\", \"u\": \"LYSPHEASPILEASPMETMETVALSERLEULEUARGGLNGLUASNALAARGASPILECYSVALILEGLNVALPROPROGLUMETARGTYRTHRASPTYRPHEVALILEVALSERGLYTHRSERTHRARGHISLEUHISALAMETALAPHETYRVALVALLYSMETTYRLYSHISLEULYSCYSLYSARGASPPROHISVALLYSILEGLUGLYLYSASPTHRASPASPTRPLEUCYSVALASPPHEGLYSERMETVALILEHISLEUMETLEUPROGLUTHRARGGLUILETYRGLULEUGLULYSLEUTRPTHRLEUARGSERTYRASPASP\", \"v\": \"ALAPROTRPSERARGGLUALAVALLEUSERLEUTYRARGALALEULEUARGGLNGLYARGGLNLEUARGTYRTHRASPARGASPPHETYRPHEALASERILEARGARGGLUPHEARGLYSASNGLNLYSLEUGLUASPALAGLUALAARGGLUARGGLNLEUGLULYSGLYLEUVALPHELEUASNGLYLYSLEUGLYARGILEILE\", \"w\": \"LEUTHRLEUGLUGLYILEGLNASPARGVALLEUTYRVALLEULYSLEUTYRASPLYSILEASPPROGLULYSLEUSERVALASNSERHISPHEMETLYSASPLEUGLYLEUASPSERLEUASPGLNVALGLUILEILEMETALAMETGLUASPGLUPHEGLYPHEGLUILEPROASPILEASPALAGLULYSLEUMETCYSPROGLNGLUILEVALASPTYRILEALAASPLYSLYS\"}', name='get_amino_acid_sequence_from_pdb', id='3a878127-24e9-4d7c-bfd6-283279561385', tool_call_id='call_GDHPnaoWZa679NG42yNee1ll'),\n",
       "  AIMessage(content='', additional_kwargs={'tool_calls': [{'id': 'call_bvuE0yqPCUUgkYz08p7go5v9', 'function': {'arguments': '{\"X_drug\":[\"CC(C)(COP(=O)(O)OP(=O)(O)OC[C@H]1O[C@@H](n2ccc(=N)nc2O)[C@H](O)[C@@H]1OP(=O)(O)O)[C@@H](O)C(O)=NCCC(O)=NCCS\"],\"X_target\":[\"GCUAAACCUAGCCCCAAACCCCCACCUUACUACCAAACCUUAGCCAAACCAUUUACAUAAAGUAUAGGCGAUAGAAAUUGGGCGCAAUAGAUAUAGUACCGCAAGGGAAAGAUGAAAAAACCAAGCAUAAUAUAGCAAGGACUAACCCCUAUACCUUCUGCAUAAUGAAUUAACUAGAAAUAACUUUGCAAGGAGAGCCAAAGCUAAGACCCCCGAAACCAGACGAGCUACCUAAGAACAGCUAAGAGCACACCCGUCUAUGUAGCAAAAUAGUGGGAAGAUUUAUAGGUAGAGGCGACAAACCUACCGAGCCUGGUGAUAGCUGGUUGUCCAAGAUAGAAUCUUAGUUCAACUUUAAAUUUGCCCACAGAACCAAAUCCCCUUGUAAAUUUAACUGUUAGUCCAAAGAGGAACAGCUCUUUGGACACUAGGAAAAAACCUUGUAGAGAGAGUAAAAAAUUUAACACCCAUAGUAGGCCUAAAAGCAGCCACCAAUUAAGAAAGCGUUCAAGCUCAACACAAAAAUCCCAAACAUAUAACUGAACUCCUCACACCCAAUUGGACCAAUCUAUCACCCUAUAGAAGAACUAAUGUUAGUAUAAGUAACAUGAAAACAUUCUCCUCCGCAUAAGCCUGCGUCAGCAACUGACAAUUAACAGCCCAAUAUCUACAAUCAACCAACAAGUCAUUAUUACCCUCACUGUCAACCCAACACAGGCAUGCUCAUAAGGAAAGGUUAAAAAAAGUAAAAGGAACUCGGCAAAUCUUACCCCGCCUGUUUACCAAAAACAUCACCUCUAGCAUCACCAGUAUUAGAGGCACCGCCUGCCCAGUGACACAUGUUUAACGGCCGCAAAGGUAGCAUAAUCACUUGUUCCUUAAAUAGGGACCUGUAUGAAUGGCUCCACGAGGGUUCAGCUGUCUCUUACUUUUAACCAGUGAAAUUGACCUGCCCGUGAAGAGGCGGGCAUAACACAGCAAGACGAGAAGACCCUAUGGAGCUUUAAUUUAUUAAUGCAAACACCUGCAUUAAAAAUUUCGGUUGGGGCGACCUCGGAGCAGAACCCAACCUCCGAGCAGUACAUGCUAAGACUUCACCAGUCAAAGCGAACCUCAAUUGAUCCAAUAACUUGACCAACGGAACAAGUUACCCUAGGGAUAACAGCGCAAUCCUAUUCUAGAGUCCAUAUCAACAAUAGGGUUUACGACCUCGAUGUUGGAUCAGGACAUCCCGAUGGUGCAGCCGCUAUUAAAGGUUCGUUUGUUCAACGAUUAAAGUCCUACGUGAUCUGAGUUCAGACCGGAGUAAUCCAGGUCGGUUUCUAUCUACUUUAUUCCUCCCUGUACGAAAGGACAAGAGAAAUAAGGCCUACUUCACAAAGCGCCUUCCCCCGUAAAUGAUAUCAUCUCAACUUAGAUACCCACACCCAAGAACAGGGUU\"]}', 'name': 'predict_binding_affinity'}, 'type': 'function'}], 'refusal': None}, response_metadata={'token_usage': {'completion_tokens': 850, 'prompt_tokens': 14060, 'total_tokens': 14910, 'completion_tokens_details': {'accepted_prediction_tokens': 0, 'audio_tokens': 0, 'reasoning_tokens': 0, 'rejected_prediction_tokens': 0}, 'prompt_tokens_details': {'audio_tokens': 0, 'cached_tokens': 1408}}, 'model_name': 'gpt-4o-2024-08-06', 'system_fingerprint': 'fp_eb9dce56a8', 'finish_reason': 'tool_calls', 'logprobs': None}, id='run-7c7697f1-713a-4ef8-a393-ac8a5aa47919-0', tool_calls=[{'name': 'predict_binding_affinity', 'args': {'X_drug': ['CC(C)(COP(=O)(O)OP(=O)(O)OC[C@H]1O[C@@H](n2ccc(=N)nc2O)[C@H](O)[C@@H]1OP(=O)(O)O)[C@@H](O)C(O)=NCCC(O)=NCCS'], 'X_target': ['GCUAAACCUAGCCCCAAACCCCCACCUUACUACCAAACCUUAGCCAAACCAUUUACAUAAAGUAUAGGCGAUAGAAAUUGGGCGCAAUAGAUAUAGUACCGCAAGGGAAAGAUGAAAAAACCAAGCAUAAUAUAGCAAGGACUAACCCCUAUACCUUCUGCAUAAUGAAUUAACUAGAAAUAACUUUGCAAGGAGAGCCAAAGCUAAGACCCCCGAAACCAGACGAGCUACCUAAGAACAGCUAAGAGCACACCCGUCUAUGUAGCAAAAUAGUGGGAAGAUUUAUAGGUAGAGGCGACAAACCUACCGAGCCUGGUGAUAGCUGGUUGUCCAAGAUAGAAUCUUAGUUCAACUUUAAAUUUGCCCACAGAACCAAAUCCCCUUGUAAAUUUAACUGUUAGUCCAAAGAGGAACAGCUCUUUGGACACUAGGAAAAAACCUUGUAGAGAGAGUAAAAAAUUUAACACCCAUAGUAGGCCUAAAAGCAGCCACCAAUUAAGAAAGCGUUCAAGCUCAACACAAAAAUCCCAAACAUAUAACUGAACUCCUCACACCCAAUUGGACCAAUCUAUCACCCUAUAGAAGAACUAAUGUUAGUAUAAGUAACAUGAAAACAUUCUCCUCCGCAUAAGCCUGCGUCAGCAACUGACAAUUAACAGCCCAAUAUCUACAAUCAACCAACAAGUCAUUAUUACCCUCACUGUCAACCCAACACAGGCAUGCUCAUAAGGAAAGGUUAAAAAAAGUAAAAGGAACUCGGCAAAUCUUACCCCGCCUGUUUACCAAAAACAUCACCUCUAGCAUCACCAGUAUUAGAGGCACCGCCUGCCCAGUGACACAUGUUUAACGGCCGCAAAGGUAGCAUAAUCACUUGUUCCUUAAAUAGGGACCUGUAUGAAUGGCUCCACGAGGGUUCAGCUGUCUCUUACUUUUAACCAGUGAAAUUGACCUGCCCGUGAAGAGGCGGGCAUAACACAGCAAGACGAGAAGACCCUAUGGAGCUUUAAUUUAUUAAUGCAAACACCUGCAUUAAAAAUUUCGGUUGGGGCGACCUCGGAGCAGAACCCAACCUCCGAGCAGUACAUGCUAAGACUUCACCAGUCAAAGCGAACCUCAAUUGAUCCAAUAACUUGACCAACGGAACAAGUUACCCUAGGGAUAACAGCGCAAUCCUAUUCUAGAGUCCAUAUCAACAAUAGGGUUUACGACCUCGAUGUUGGAUCAGGACAUCCCGAUGGUGCAGCCGCUAUUAAAGGUUCGUUUGUUCAACGAUUAAAGUCCUACGUGAUCUGAGUUCAGACCGGAGUAAUCCAGGUCGGUUUCUAUCUACUUUAUUCCUCCCUGUACGAAAGGACAAGAGAAAUAAGGCCUACUUCACAAAGCGCCUUCCCCCGUAAAUGAUAUCAUCUCAACUUAGAUACCCACACCCAAGAACAGGGUU']}, 'id': 'call_bvuE0yqPCUUgkYz08p7go5v9', 'type': 'tool_call'}], usage_metadata={'input_tokens': 14060, 'output_tokens': 850, 'total_tokens': 14910, 'input_token_details': {'audio': 0, 'cache_read': 1408}, 'output_token_details': {'audio': 0, 'reasoning': 0}}),\n",
       "  ToolMessage(content='5.009360313415527', name='predict_binding_affinity', id='873081e5-b30f-4e07-99db-6b652c92e487', tool_call_id='call_bvuE0yqPCUUgkYz08p7go5v9'),\n",
       "  AIMessage(content='', additional_kwargs={'tool_calls': [{'id': 'call_6Rao1H4WesQJQHSLI9VNqqAm', 'function': {'arguments': '{\"columns\":[\"PDB ID\",\"Generated SMILES\",\"Binding Affinity\"],\"rows\":[[\"5ool\",\"CC(C)(COP(=O)(O)OP(=O)(O)OC[C@H]1O[C@@H](n2ccc(=N)nc2O)[C@H](O)[C@@H]1OP(=O)(O)O)[C@@H](O)C(O)=NCCC(O)=NCCS\",5.009360313415527]]}', 'name': 'generate_report'}, 'type': 'function'}], 'refusal': None}, response_metadata={'token_usage': {'completion_tokens': 117, 'prompt_tokens': 14926, 'total_tokens': 15043, 'completion_tokens_details': {'accepted_prediction_tokens': 0, 'audio_tokens': 0, 'reasoning_tokens': 0, 'rejected_prediction_tokens': 0}, 'prompt_tokens_details': {'audio_tokens': 0, 'cached_tokens': 14848}}, 'model_name': 'gpt-4o-2024-08-06', 'system_fingerprint': 'fp_eb9dce56a8', 'finish_reason': 'tool_calls', 'logprobs': None}, id='run-6a796159-5a3b-4bf5-afc4-7fdc1d7c03b5-0', tool_calls=[{'name': 'generate_report', 'args': {'columns': ['PDB ID', 'Generated SMILES', 'Binding Affinity'], 'rows': [['5ool', 'CC(C)(COP(=O)(O)OP(=O)(O)OC[C@H]1O[C@@H](n2ccc(=N)nc2O)[C@H](O)[C@@H]1OP(=O)(O)O)[C@@H](O)C(O)=NCCC(O)=NCCS', 5.009360313415527]]}, 'id': 'call_6Rao1H4WesQJQHSLI9VNqqAm', 'type': 'tool_call'}], usage_metadata={'input_tokens': 14926, 'output_tokens': 117, 'total_tokens': 15043, 'input_token_details': {'audio': 0, 'cache_read': 14848}, 'output_token_details': {'audio': 0, 'reasoning': 0}}),\n",
       "  ToolMessage(content='report_20250306_001558.csv', name='generate_report', id='f9958576-2b7d-4581-90b4-3276e2d354ff', tool_call_id='call_6Rao1H4WesQJQHSLI9VNqqAm'),\n",
       "  AIMessage(content='{\"report_path\":\"report_20250306_001558.csv\"}', additional_kwargs={'refusal': None}, response_metadata={'token_usage': {'completion_tokens': 16, 'prompt_tokens': 15059, 'total_tokens': 15075, 'completion_tokens_details': {'accepted_prediction_tokens': 0, 'audio_tokens': 0, 'reasoning_tokens': 0, 'rejected_prediction_tokens': 0}, 'prompt_tokens_details': {'audio_tokens': 0, 'cached_tokens': 14976}}, 'model_name': 'gpt-4o-2024-08-06', 'system_fingerprint': 'fp_eb9dce56a8', 'finish_reason': 'stop', 'logprobs': None}, id='run-e8dece6c-68fd-4552-acea-2a9a8fafd781-0', usage_metadata={'input_tokens': 15059, 'output_tokens': 16, 'total_tokens': 15075, 'input_token_details': {'audio': 0, 'cache_read': 14976}, 'output_token_details': {'audio': 0, 'reasoning': 0}})]}"
      ]
     },
     "execution_count": 51,
     "metadata": {},
     "output_type": "execute_result"
    }
   ],
   "source": [
    "output = query_graph(\"What proteins can you find me related to mitochondrial ribosomal protein L36? Generate some compounds and test their binding affinity\")\n",
    "# output = query_graph(\"Given pdb 5ool, generate some compounds\")\n",
    "\n",
    "output"
   ]
  },
  {
   "cell_type": "code",
   "execution_count": 45,
   "metadata": {},
   "outputs": [
    {
     "data": {
      "text/plain": [
       "{'error': 'Unable to generate compounds for the given PDB IDs due to missing datasets.'}"
      ]
     },
     "execution_count": 45,
     "metadata": {},
     "output_type": "execute_result"
    }
   ],
   "source": [
    "message = json.loads(output[\"messages\"][-1].content)\n",
    "message"
   ]
  },
  {
   "cell_type": "code",
   "execution_count": null,
   "metadata": {},
   "outputs": [],
   "source": []
  }
 ],
 "metadata": {
  "kernelspec": {
   "display_name": "TamGen",
   "language": "python",
   "name": "python3"
  },
  "language_info": {
   "codemirror_mode": {
    "name": "ipython",
    "version": 3
   },
   "file_extension": ".py",
   "mimetype": "text/x-python",
   "name": "python",
   "nbconvert_exporter": "python",
   "pygments_lexer": "ipython3",
   "version": "3.12.2"
  }
 },
 "nbformat": 4,
 "nbformat_minor": 2
}
