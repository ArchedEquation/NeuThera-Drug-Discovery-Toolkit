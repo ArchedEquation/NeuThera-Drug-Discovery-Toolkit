{
 "cells": [
  {
   "cell_type": "code",
   "execution_count": 1,
   "metadata": {},
   "outputs": [],
   "source": [
    "# !pip install langchain openai\n",
    "# !pip install python-arango\n",
    "# !pip install langchain-community\n",
    "# !pip install langchain-openai\n",
    "# !pip install --upgrade langchain langchain-community langchain-openai langgraph\n",
    "# !pip install langgraph\n",
    "# !pip install biomart\n",
    "\n",
    "# !pip install DeepPurpose \n",
    "# !pip install torch torchvision torchaudio\n",
    "\n",
    "# !pip install git+https://github.com/bp-kelley/descriptastorus\n",
    "# !pip install pandas-flavor\n"
   ]
  },
  {
   "cell_type": "code",
   "execution_count": 43,
   "metadata": {},
   "outputs": [],
   "source": [
    "import os\n",
    "import sys\n",
    "import requests\n",
    "import ast\n",
    "from glob import glob\n",
    "from io import StringIO\n",
    "\n",
    "import pandas as pd\n",
    "\n",
    "from dotenv import load_dotenv\n",
    "from arango import ArangoClient\n",
    "from biomart import BiomartServer\n",
    "\n",
    "from langgraph.prebuilt import create_react_agent\n",
    "from langgraph.checkpoint.memory import MemorySaver\n",
    "from langchain_openai import ChatOpenAI\n",
    "from langchain_community.graphs import ArangoGraph\n",
    "from langchain_community.chains.graph_qa.arangodb import ArangoGraphQAChain\n",
    "from langchain_core.tools import tool\n",
    "\n",
    "from DeepPurpose import utils\n",
    "from DeepPurpose import DTI as models\n",
    "\n",
    "from rdkit import Chem, DataStructs\n",
    "from rdkit.Chem import MACCSkeys\n",
    "from rdkit.Chem import Draw, AllChem\n",
    "\n",
    "from Bio.PDB import MMCIFParser"
   ]
  },
  {
   "cell_type": "code",
   "execution_count": 3,
   "metadata": {},
   "outputs": [],
   "source": [
    "load_dotenv()\n",
    "openai_api_key = os.getenv(\"OPENAI_API_KEY\")"
   ]
  },
  {
   "cell_type": "code",
   "execution_count": 4,
   "metadata": {},
   "outputs": [],
   "source": [
    "db = ArangoClient(hosts=\"http://localhost:8529\").db('NeuThera', username='root', password='openSesame')\n",
    "arango_graph = ArangoGraph(db)"
   ]
  },
  {
   "cell_type": "markdown",
   "metadata": {},
   "source": [
    "## Tooling\n",
    "\n",
    "- **text_to_aql**: Executes a relevant AQL from user input\n",
    "- **fetch_pdb_from_ensp**: Fetches PDB IDs from ENSP IDs\n",
    "- **predict_binding_affinity**: uses DeepPurpose to find the binding affinity of a compound on a target protein\n",
    "- "
   ]
  },
  {
   "cell_type": "code",
   "execution_count": 5,
   "metadata": {},
   "outputs": [],
   "source": [
    "@tool\n",
    "def text_to_aql(query: str):\n",
    "    \"\"\"Execute a Natural Language Query in ArangoDB, and return the result as text.\"\"\"\n",
    "    \n",
    "    llm = ChatOpenAI(temperature=0, model_name=\"gpt-4o\")\n",
    "\n",
    "    chain = ArangoGraphQAChain.from_llm(\n",
    "        llm=llm,\n",
    "        graph=arango_graph,  # Assuming arango_graph is already initialized\n",
    "        verbose=True,\n",
    "        allow_dangerous_requests=True\n",
    "    )\n",
    "    \n",
    "    result = chain.invoke(query)\n",
    "\n",
    "    return str(result[\"result\"])"
   ]
  },
  {
   "cell_type": "code",
   "execution_count": 60,
   "metadata": {},
   "outputs": [],
   "source": [
    "# @tool\n",
    "def predict_binding_affinity(X_drug, X_target, y=[7.635]):\n",
    "    \"\"\"\n",
    "    Predicts the binding affinity for given drug and target sequences.\n",
    "\n",
    "    Parameters:\n",
    "    X_drug (list): List containing the SMILES representation of the drug.\n",
    "    X_target (list): List containing the amino acid sequence of the protein target.\n",
    "\n",
    "    Returns:\n",
    "    float: Predicted binding affinity (log(Kd) or log(Ki)).\n",
    "    \"\"\"\n",
    "\n",
    "    print(\"Predicting binding affinity: \", X_drug, X_target)\n",
    "    \n",
    "    model = models.model_pretrained(path_dir='DTI_model')\n",
    "\n",
    "    X_pred = utils.data_process(X_drug, X_target, y,\n",
    "                                drug_encoding='CNN', \n",
    "                                target_encoding='CNN', \n",
    "                                split_method='no_split')\n",
    "   \n",
    "    predictions = model.predict(X_pred)\n",
    "\n",
    "    return predictions[0]\n"
   ]
  },
  {
   "cell_type": "code",
   "execution_count": 45,
   "metadata": {},
   "outputs": [],
   "source": [
    "@tool\n",
    "def get_amino_acid_sequence(pdb_id):    \n",
    "    \"\"\"\n",
    "    Extracts amino acid sequences from a given PDB structure file in CIF format.\n",
    "\n",
    "    Args:\n",
    "        pdb_id (str): pdb id of the protein.\n",
    "\n",
    "    Returns:\n",
    "        dict: A dictionary where keys are chain IDs and values are amino acid sequences.\n",
    "    \"\"\"\n",
    "\n",
    "    print(\"Getting Amino Acid sequence for \", pdb_id)\n",
    "\n",
    "    cif_file_path = f\"./database/PDBlib/{pdb_id.lower()}.cif\"\n",
    "\n",
    "    parser = MMCIFParser(QUIET=True)\n",
    "    structure = parser.get_structure(\"protein\", cif_file_path)\n",
    "    \n",
    "    sequences = {}\n",
    "    for model in structure:\n",
    "        for chain in model:\n",
    "            seq = \"\".join(residue.resname for residue in chain if residue.id[0] == \" \")\n",
    "            sequences[chain.id] = seq \n",
    "            \n",
    "    return sequences"
   ]
  },
  {
   "cell_type": "code",
   "execution_count": 29,
   "metadata": {},
   "outputs": [],
   "source": [
    "sys.path.append(os.path.abspath(\"./TamGen\"))"
   ]
  },
  {
   "cell_type": "code",
   "execution_count": 57,
   "metadata": {},
   "outputs": [
    {
     "name": "stdout",
     "output_type": "stream",
     "text": [
      "Namespace(no_progress_bar=False, log_interval=1000, log_format=None, tensorboard_logdir='', tbmf_wrapper=False, seed=1, cpu=False, fp16=False, memory_efficient_fp16=False, fp16_init_scale=128, fp16_scale_window=None, fp16_scale_tolerance=0.0, min_loss_scale=0.0001, threshold_loss_scale=None, user_dir=None, criterion='cross_entropy', tokenizer=None, bpe=None, optimizer='nag', lr_scheduler='fixed', task='translation_coord', num_workers=1, skip_invalid_size_inputs_valid_test=False, max_tokens=1024, max_sentences=None, required_batch_size_multiple=8, dataset_impl=None, gen_subset='gen_8fln', num_shards=1, shard_id=0, path='checkpoints/crossdock_pdb_A10/checkpoint_best.pt', remove_bpe=None, quiet=False, model_overrides='{}', results_path=None, beam=20, nbest=20, max_len_a=0, max_len_b=200, min_len=1, match_source_len=False, no_early_stop=False, unnormalized=False, no_beamable_mm=False, lenpen=1, unkpen=0, replace_unk=None, sacrebleu=False, score_reference=False, prefix_size=0, prefix_string=None, tag_prefix_token=False, no_repeat_ngram_size=0, sampling=False, sampling_topk=-1, sampling_topp=-1.0, temperature=1.0, diverse_beam_groups=-1, diverse_beam_strength=0.5, print_alignment=False, scorer='bleu', codegen_pov_replace_unk=True, dump_hyp=None, momentum=0.99, weight_decay=0.0, force_anneal=None, lr_shrink=0.1, warmup_updates=0, data='./TamGen_Demo_Data', source_lang='tg', target_lang='m1', lazy_load=False, raw_text=False, left_pad_source='True', left_pad_target='False', max_source_positions=1024, max_target_positions=1024, upsample_primary=1, coord_mode='raw', use_src_coord=True, use_tgt_coord=False, shuffle_input=False, vae=False, sample_beta=1.0, hint=False, hint_rate=0.5, gen_coord_noise=False, gen_rot=False, gen_vae=True, remove_prefix_fragment=False)\n",
      "| [tg] dictionary: 25 types\n",
      "| [m1] dictionary: 962 types\n",
      "| loading model(s) from checkpoints/crossdock_pdb_A10/checkpoint_best.pt\n",
      "checkpoints/crossdock_pdb_A10/checkpoint_best.pt\n",
      "gpt_model/checkpoint_best.pt\n"
     ]
    }
   ],
   "source": [
    "from TamGen_custom import TamGenCustom\n",
    "\n",
    "os.environ[\"CUDA_VISIBLE_DEVICES\"] = \"0\"\n",
    "\n",
    "worker = TamGenCustom(\n",
    "    data=\"./TamGen_Demo_Data\",\n",
    "    ckpt=\"checkpoints/crossdock_pdb_A10/checkpoint_best.pt\",\n",
    "    use_conditional=True\n",
    ")\n",
    "\n",
    "@tool\n",
    "def prepare_pdb_data(pdb_id):\n",
    "    \"\"\"\n",
    "    Checks if the PDB data for the given PDB ID is available.  \n",
    "    If not, downloads and processes the data.\n",
    "\n",
    "    ALWAYS RUN THIS FUNCTION BEFORE WORKING WITH PDB\n",
    "\n",
    "    Args:\n",
    "        pdb_id (str): PDB ID of the target structure.\n",
    "\n",
    "    \"\"\"\n",
    "\n",
    "    DemoDataFolder=\"TamGen_Demo_Data\"\n",
    "    ligand_inchi=None\n",
    "    thr=10\n",
    "\n",
    "    out_split = pdb_id.lower()\n",
    "    FF = glob(f\"{DemoDataFolder}/*\")\n",
    "    for ff in FF:\n",
    "        if f\"gen_{out_split}\" in ff:\n",
    "            print(f\"{pdb_id} is downloaded\")\n",
    "            return\n",
    "    \n",
    "    os.makedirs(DemoDataFolder, exist_ok=True)\n",
    "    \n",
    "    with open(\"tmp_pdb.csv\", \"w\") as fw:\n",
    "        if ligand_inchi is None:\n",
    "            print(\"pdb_id\", file=fw)\n",
    "            print(f\"{pdb_id}\", file=fw)\n",
    "        else:\n",
    "            print(\"pdb_id,ligand_inchi\", file=fw)\n",
    "            print(f\"{pdb_id},{ligand_inchi}\", file=fw)\n",
    "\n",
    "    script_path = os.path.abspath(\"TamGen/scripts/build_data/prepare_pdb_ids.py\")\n",
    "    os.system(f\"python {script_path} tmp_pdb.csv gen_{out_split} -o {DemoDataFolder} -t {thr}\")\n",
    "    os.remove(\"tmp_pdb.csv\")\n",
    "\n",
    "@tool\n",
    "def generate_compounds(pdb_id, num_samples=10, max_seed=30):\n",
    "    \"\"\"\n",
    "    Generates and sorts compounds based on similarity to a reference molecule.\n",
    "\n",
    "    Parameters:\n",
    "    - pdb_id (str): The PDB ID of the target protein.\n",
    "    - num_samples (int): Number of compounds to generate. (DEFAULT=500)\n",
    "    - max_seed (int): Maximum seed variations. (DEFAULT=30)\n",
    "\n",
    "    Returns:\n",
    "    - dict: {\n",
    "        'generated': [list of rdkit Mol objects],\n",
    "        'reference': rdkit Mol object,\n",
    "        'reference_smile': SMILE string of the reference compound\n",
    "        'generated_smiles': [list of SMILES strings, sorted by similarity to reference]\n",
    "      }\n",
    "    \"\"\"\n",
    "\n",
    "    print(\"Generating Compounds for PDB \", pdb_id)\n",
    "    try:\n",
    "        # Ensure the required PDB data is prepared\n",
    "        # prepare_pdb_data(pdb_id)\n",
    "\n",
    "        worker.reload_data(subset=f\"gen_{pdb_id.lower()}\")\n",
    "\n",
    "        print(f\"Generating {num_samples} compounds...\")\n",
    "        generated_mols, reference_mol = worker.sample(\n",
    "            m_sample=num_samples, \n",
    "            maxseed=max_seed\n",
    "        )\n",
    "\n",
    "        if reference_mol:\n",
    "            # Ensure reference_mol is an RDKit Mol object\n",
    "            if isinstance(reference_mol, str):\n",
    "                reference_mol = Chem.MolFromSmiles(reference_mol)\n",
    "\n",
    "            fp_ref = MACCSkeys.GenMACCSKeys(reference_mol)\n",
    "\n",
    "            gens = []\n",
    "            for mol in generated_mols:\n",
    "                if isinstance(mol, str):  # Convert string SMILES to Mol\n",
    "                    mol = Chem.MolFromSmiles(mol)\n",
    "                if mol:  # Ensure conversion was successful\n",
    "                    fp = MACCSkeys.GenMACCSKeys(mol)\n",
    "                    similarity = DataStructs.FingerprintSimilarity(fp_ref, fp, metric=DataStructs.TanimotoSimilarity)\n",
    "                    gens.append((mol, similarity))\n",
    "\n",
    "            sorted_mols = [mol for mol, _ in sorted(gens, key=lambda e: e[1], reverse=True)]\n",
    "        \n",
    "        else:\n",
    "            sorted_mols = generated_mols\n",
    "\n",
    "        generated_smiles = [Chem.MolToSmiles(mol) for mol in sorted_mols if mol]\n",
    "\n",
    "        reference_smile = Chem.MolToSmiles(reference_mol)\n",
    "\n",
    "        return {\n",
    "            \"generated\": sorted_mols,\n",
    "            \"reference\": reference_mol,\n",
    "            \"reference_smile\": reference_smile,\n",
    "            \"generated_smiles\": generated_smiles\n",
    "        }\n",
    "\n",
    "    except Exception as e:\n",
    "        print(f\"Error in compound generation: {str(e)}\")\n",
    "        return {\"error\": str(e)}"
   ]
  },
  {
   "cell_type": "markdown",
   "metadata": {},
   "source": [
    "### Agentic RAG"
   ]
  },
  {
   "cell_type": "code",
   "execution_count": 42,
   "metadata": {},
   "outputs": [],
   "source": [
    "tools = [ text_to_aql, get_amino_acid_sequence_from_pdb, prepare_pdb_data, generate_compounds, predict_binding_affinity ]\n",
    "\n",
    "def query_graph(query):\n",
    "    \n",
    "    query_template = f\"\"\"\n",
    "    user input: {query}\n",
    "\n",
    "    You are an advanced drug discovery assistant with multiple tools.\n",
    "\n",
    "    - Use your tools as needed to assist in end-to-end drug discovery.\n",
    "    - Always structure your output as **valid JSON**, structure as needed\n",
    "    - Do not add explanations or any extra text.\n",
    "\n",
    "    !WARNING!\n",
    "    YOU RUN FOR DEMO PURPOSES ONLY\n",
    "\n",
    "    - DO NOT RUN TOOLS ESPECIALLY generate_compounds AND predict_binding_affinity MULTIPLE TIMES\n",
    "    - IF MULTIPLE OUTPUTS ARE FOUND FOR PROCESSING, JUST PICK THE FIRST ONE AND RUN THE PROCEEDING FUNCTIONS WITH THAT.\n",
    "    \"\"\"\n",
    "    \n",
    "    llm = ChatOpenAI(temperature=0, model_name=\"gpt-4o\")\n",
    "    app = create_react_agent(llm, tools)    \n",
    "    final_state = app.invoke({\"messages\": [{\"role\": \"user\", \"content\": query_template}]})\n",
    "    return final_state"
   ]
  },
  {
   "cell_type": "code",
   "execution_count": 58,
   "metadata": {},
   "outputs": [
    {
     "name": "stdout",
     "output_type": "stream",
     "text": [
      "5ool is downloaded\n",
      "Generating Compounds for PDB  5ool\n",
      "| loaded 1 examples from: ./TamGen_Demo_Data/gen_5ool.tg-m1.tg\n",
      "| loaded 1 examples from: ./TamGen_Demo_Data/gen_5ool.tg-m1.m1\n",
      "| ./TamGen_Demo_Data gen_5ool tg-m1 1 examples\n",
      "| loaded 1 examples from: ./TamGen_Demo_Data/gen_5ool.tg-m1.tg.coord\n",
      "Generating 10 compounds...\n"
     ]
    },
    {
     "name": "stderr",
     "output_type": "stream",
     "text": [
      " 97%|█████████▋| 29/30 [04:59<00:10, 10.33s/it]\n"
     ]
    },
    {
     "data": {
      "text/plain": [
       "{'messages': [HumanMessage(content='\\n    user input: Given pdb 5ool, generate some compounds\\n\\n    You are an advanced drug discovery assistant with multiple tools.\\n\\n    - Use your tools as needed to assist in end-to-end drug discovery.\\n    - Always structure your output as **valid JSON**, structure as needed\\n    - Do not add explanations or any extra text.\\n\\n    !WARNING!\\n    YOU RUN FOR DEMO PURPOSES ONLY\\n\\n    - DO NOT RUN TOOLS ESPECIALLY generate_compounds AND predict_binding_affinity MULTIPLE TIMES\\n    - IF MULTIPLE OUTPUTS ARE FOUND FOR PROCESSING, JUST PICK THE FIRST ONE AND RUN THE PROCEEDING FUNCTIONS WITH THAT.\\n    ', additional_kwargs={}, response_metadata={}, id='b56b3f2f-e07d-40ce-87c2-f7432f767505'),\n",
       "  AIMessage(content='', additional_kwargs={'tool_calls': [{'id': 'call_f66WrwxuRPi9R3BGGZ3AbP12', 'function': {'arguments': '{\"pdb_id\":\"5ool\"}', 'name': 'prepare_pdb_data'}, 'type': 'function'}], 'refusal': None}, response_metadata={'token_usage': {'completion_tokens': 20, 'prompt_tokens': 564, 'total_tokens': 584, 'completion_tokens_details': {'accepted_prediction_tokens': 0, 'audio_tokens': 0, 'reasoning_tokens': 0, 'rejected_prediction_tokens': 0}, 'prompt_tokens_details': {'audio_tokens': 0, 'cached_tokens': 0}}, 'model_name': 'gpt-4o-2024-08-06', 'system_fingerprint': 'fp_eb9dce56a8', 'finish_reason': 'tool_calls', 'logprobs': None}, id='run-8d237ef3-b254-4d22-8f5d-a7fc84d06c6f-0', tool_calls=[{'name': 'prepare_pdb_data', 'args': {'pdb_id': '5ool'}, 'id': 'call_f66WrwxuRPi9R3BGGZ3AbP12', 'type': 'tool_call'}], usage_metadata={'input_tokens': 564, 'output_tokens': 20, 'total_tokens': 584, 'input_token_details': {'audio': 0, 'cache_read': 0}, 'output_token_details': {'audio': 0, 'reasoning': 0}}),\n",
       "  ToolMessage(content='null', name='prepare_pdb_data', id='a87c4659-1d54-4251-a308-0bbb4abaee29', tool_call_id='call_f66WrwxuRPi9R3BGGZ3AbP12'),\n",
       "  AIMessage(content='', additional_kwargs={'tool_calls': [{'id': 'call_W2eehMediCIJncSJlaOtPDCu', 'function': {'arguments': '{\"pdb_id\":\"5ool\"}', 'name': 'generate_compounds'}, 'type': 'function'}], 'refusal': None}, response_metadata={'token_usage': {'completion_tokens': 19, 'prompt_tokens': 594, 'total_tokens': 613, 'completion_tokens_details': {'accepted_prediction_tokens': 0, 'audio_tokens': 0, 'reasoning_tokens': 0, 'rejected_prediction_tokens': 0}, 'prompt_tokens_details': {'audio_tokens': 0, 'cached_tokens': 0}}, 'model_name': 'gpt-4o-2024-08-06', 'system_fingerprint': 'fp_eb9dce56a8', 'finish_reason': 'tool_calls', 'logprobs': None}, id='run-e05838b0-76ae-41a8-afcf-e24bf35eab2c-0', tool_calls=[{'name': 'generate_compounds', 'args': {'pdb_id': '5ool'}, 'id': 'call_W2eehMediCIJncSJlaOtPDCu', 'type': 'tool_call'}], usage_metadata={'input_tokens': 594, 'output_tokens': 19, 'total_tokens': 613, 'input_token_details': {'audio': 0, 'cache_read': 0}, 'output_token_details': {'audio': 0, 'reasoning': 0}}),\n",
       "  ToolMessage(content=\"{'generated': [<rdkit.Chem.rdchem.Mol object at 0x301fcd000>, <rdkit.Chem.rdchem.Mol object at 0x301fcf370>, <rdkit.Chem.rdchem.Mol object at 0x301fcf450>], 'reference': <rdkit.Chem.rdchem.Mol object at 0x301fcec70>, 'generated_smiles': ['CC(C)(COP(=O)(O)OP(=O)(O)OC[C@H]1O[C@@H](n2ccc(=N)nc2O)[C@H](O)[C@@H]1OP(=O)(O)O)[C@@H](O)C(O)=NCCC(O)=NCCS', 'CC(C)(COP(=O)(O)OP(=O)(O)OC[C@H]1O[C@@H](n2cnc3c(N)ncnc32)[C@H](O)[C@@H]1OP(=O)(O)O)[C@@H](O)C(N)=O', 'CC(C)(COP(=O)(O)OP(=O)(O)OC[C@H]1O[C@@H](n2cnc3c(N)ncnc32)[C@H](O)[C@@H]1OP(=O)(O)O)[C@@H](N)C(=O)O', 'CC(C)(COP(=O)(O)O)[C@@H](O)C(O)=NCCC(O)=NCCS']}\", name='generate_compounds', id='c68f0a3f-430d-4a3b-b083-5c66d9bc15e3', tool_call_id='call_W2eehMediCIJncSJlaOtPDCu'),\n",
       "  AIMessage(content='```json\\n{\\n    \"generated_compounds\": {\\n        \"generated_smiles\": [\\n            \"CC(C)(COP(=O)(O)OP(=O)(O)OC[C@H]1O[C@@H](n2ccc(=N)nc2O)[C@H](O)[C@@H]1OP(=O)(O)O)[C@@H](O)C(O)=NCCC(O)=NCCS\",\\n            \"CC(C)(COP(=O)(O)OP(=O)(O)OC[C@H]1O[C@@H](n2cnc3c(N)ncnc32)[C@H](O)[C@@H]1OP(=O)(O)O)[C@@H](O)C(N)=O\",\\n            \"CC(C)(COP(=O)(O)OP(=O)(O)OC[C@H]1O[C@@H](n2cnc3c(N)ncnc32)[C@H](O)[C@@H]1OP(=O)(O)O)[C@@H](N)C(=O)O\",\\n            \"CC(C)(COP(=O)(O)O)[C@@H](O)C(O)=NCCC(O)=NCCS\"\\n        ]\\n    }\\n}\\n```', additional_kwargs={'refusal': None}, response_metadata={'token_usage': {'completion_tokens': 283, 'prompt_tokens': 963, 'total_tokens': 1246, 'completion_tokens_details': {'accepted_prediction_tokens': 0, 'audio_tokens': 0, 'reasoning_tokens': 0, 'rejected_prediction_tokens': 0}, 'prompt_tokens_details': {'audio_tokens': 0, 'cached_tokens': 0}}, 'model_name': 'gpt-4o-2024-08-06', 'system_fingerprint': 'fp_eb9dce56a8', 'finish_reason': 'stop', 'logprobs': None}, id='run-fcc3d63c-e52a-4e16-96de-c64e2e6f36a5-0', usage_metadata={'input_tokens': 963, 'output_tokens': 283, 'total_tokens': 1246, 'input_token_details': {'audio': 0, 'cache_read': 0}, 'output_token_details': {'audio': 0, 'reasoning': 0}})]}"
      ]
     },
     "execution_count": 58,
     "metadata": {},
     "output_type": "execute_result"
    }
   ],
   "source": [
    "# output = query_graph(\"What proteins can you find me related to mitochondrial ribosomal protein L36? Generate some compounds and test their binding affinity\")\n",
    "output = query_graph(\"Given pdb 5ool, generate some compounds\")\n",
    "\n",
    "output"
   ]
  },
  {
   "cell_type": "code",
   "execution_count": 51,
   "metadata": {},
   "outputs": [
    {
     "data": {
      "text/plain": [
       "AIMessage(content='', additional_kwargs={'tool_calls': [{'id': 'call_nHNHTa1YvLJhWb0c6BJY8v6b', 'function': {'arguments': '{\"X_drug\":[\"CC(C)(COP(=O)(O)OP(=O)(O)OC[C@H]1O[C@@H](n2ccc(=N)nc2O)[C@H](O)[C@@H]1OP(=O)(O)O)[C@@H](O)C(O)=NCCC(O)=NCCS\"],\"X_target\":[\"GCUAAACCUAGCCCCAAACCCCCACCUUACUACCAAACCUUAGCCAAACCAUUUACAUAAAGUAUAGGCGAUAGAAAUUGGGCGCAAUAGAUAUAGUACCGCAAGGGAAAGAUGAAAAAACCAAGCAUAAUAUAGCAAGGACUAACCCCUAUACCUUCUGCAUAAUGAAUUAACUAGAAAUAACUUUGCAAGGAGAGCCAAAGCUAAGACCCCCGAAACCAGACGAGCUACCUAAGAACAGCUAAGAGCACACCCGUCUAUGUAGCAAAAUAGUGGGAAGAUUUAUAGGUAGAGGCGACAAACCUACCGAGCCUGGUGAUAGCUGGUUGUCCAAGAUAGAAUCUUAGUUCAACUUUAAAUUUGCCCACAGAACCAAAUCCCCUUGUAAAUUUAACUGUUAGUCCAAAGAGGAACAGCUCUUUGGACACUAGGAAAAAACCUUGUAGAGAGAGUAAAAAAUUUAACACCCAUAGUAGGCCUAAAAGCAGCCACCAAUUAAGAAAGCGUUCAAGCUCAACACAAAAAUCCCAAACAUAUAACUGAACUCCUCACACCCAAUUGGACCAAUCUAUCACCCUAUAGAAGAACUAAUGUUAGUAUAAGUAACAUGAAAACAUUCUCCUCCGCAUAAGCCUGCGUCAGCAACUGACAAUUAACAGCCCAAUAUCUACAAUCAACCAACAAGUCAUUAUUACCCUCACUGUCAACCCAACACAGGCAUGCUCAUAAGGAAAGGUUAAAAAAAGUAAAAGGAACUCGGCAAAUCUUACCCCGCCUGUUUACCAAAAACAUCACCUCUAGCAUCACCAGUAUUAGAGGCACCGCCUGCCCAGUGACACAUGUUUAACGGCCGCAAAGGUAGCAUAAUCACUUGUUCCUUAAAUAGGGACCUGUAUGAAUGGCUCCACGAGGGUUCAGCUGUCUCUUACUUUUAACCAGUGAAAUUGACCUGCCCGUGAAGAGGCGGGCAUAACACAGCAAGACGAGAAGACCCUAUGGAGCUUUAAUUUAUUAAUGCAAACACCUGCAUUAAAAAUUUCGGUUGGGGCGACCUCGGAGCAGAACCCAACCUCCGAGCAGUACAUGCUAAGACUUCACCAGUCAAAGCGAACCUCAAUUGAUCCAAUAACUUGACCAACGGAACAAGUUACCCUAGGGAUAACAGCGCAAUCCUAUUCUAGAGUCCAUAUCAACAAUAGGGUUUACGACCUCGAUGUUGGAUCAGGACAUCCCGAUGGUGCAGCCGCUAUUAAAGGUUCGUUUGUUCAACGAUUAAAGUCCUACGUGAUCUGAGUUCAGACCGGAGUAAUCCAGGUCGGUUUCUAUCUACUUUAUUCCUCCCUGUACGAAAGGACAAGAGAAAUAAGGCCUACUUCACAAAGCGCCUUCCCCCGUAAAUGAUAUCAUCUCAACUUAGAUACCCACACCCAAGAACAGGGUU\"]}', 'name': 'predict_binding_affinity'}, 'type': 'function'}], 'refusal': None}, response_metadata={'token_usage': {'completion_tokens': 850, 'prompt_tokens': 14179, 'total_tokens': 15029, 'completion_tokens_details': {'accepted_prediction_tokens': 0, 'audio_tokens': 0, 'reasoning_tokens': 0, 'rejected_prediction_tokens': 0}, 'prompt_tokens_details': {'audio_tokens': 0, 'cached_tokens': 14080}}, 'model_name': 'gpt-4o-2024-08-06', 'system_fingerprint': 'fp_eb9dce56a8', 'finish_reason': 'tool_calls', 'logprobs': None}, id='run-7195c965-06d9-4c64-b912-1c1ec01705f3-0', tool_calls=[{'name': 'predict_binding_affinity', 'args': {'X_drug': ['CC(C)(COP(=O)(O)OP(=O)(O)OC[C@H]1O[C@@H](n2ccc(=N)nc2O)[C@H](O)[C@@H]1OP(=O)(O)O)[C@@H](O)C(O)=NCCC(O)=NCCS'], 'X_target': ['GCUAAACCUAGCCCCAAACCCCCACCUUACUACCAAACCUUAGCCAAACCAUUUACAUAAAGUAUAGGCGAUAGAAAUUGGGCGCAAUAGAUAUAGUACCGCAAGGGAAAGAUGAAAAAACCAAGCAUAAUAUAGCAAGGACUAACCCCUAUACCUUCUGCAUAAUGAAUUAACUAGAAAUAACUUUGCAAGGAGAGCCAAAGCUAAGACCCCCGAAACCAGACGAGCUACCUAAGAACAGCUAAGAGCACACCCGUCUAUGUAGCAAAAUAGUGGGAAGAUUUAUAGGUAGAGGCGACAAACCUACCGAGCCUGGUGAUAGCUGGUUGUCCAAGAUAGAAUCUUAGUUCAACUUUAAAUUUGCCCACAGAACCAAAUCCCCUUGUAAAUUUAACUGUUAGUCCAAAGAGGAACAGCUCUUUGGACACUAGGAAAAAACCUUGUAGAGAGAGUAAAAAAUUUAACACCCAUAGUAGGCCUAAAAGCAGCCACCAAUUAAGAAAGCGUUCAAGCUCAACACAAAAAUCCCAAACAUAUAACUGAACUCCUCACACCCAAUUGGACCAAUCUAUCACCCUAUAGAAGAACUAAUGUUAGUAUAAGUAACAUGAAAACAUUCUCCUCCGCAUAAGCCUGCGUCAGCAACUGACAAUUAACAGCCCAAUAUCUACAAUCAACCAACAAGUCAUUAUUACCCUCACUGUCAACCCAACACAGGCAUGCUCAUAAGGAAAGGUUAAAAAAAGUAAAAGGAACUCGGCAAAUCUUACCCCGCCUGUUUACCAAAAACAUCACCUCUAGCAUCACCAGUAUUAGAGGCACCGCCUGCCCAGUGACACAUGUUUAACGGCCGCAAAGGUAGCAUAAUCACUUGUUCCUUAAAUAGGGACCUGUAUGAAUGGCUCCACGAGGGUUCAGCUGUCUCUUACUUUUAACCAGUGAAAUUGACCUGCCCGUGAAGAGGCGGGCAUAACACAGCAAGACGAGAAGACCCUAUGGAGCUUUAAUUUAUUAAUGCAAACACCUGCAUUAAAAAUUUCGGUUGGGGCGACCUCGGAGCAGAACCCAACCUCCGAGCAGUACAUGCUAAGACUUCACCAGUCAAAGCGAACCUCAAUUGAUCCAAUAACUUGACCAACGGAACAAGUUACCCUAGGGAUAACAGCGCAAUCCUAUUCUAGAGUCCAUAUCAACAAUAGGGUUUACGACCUCGAUGUUGGAUCAGGACAUCCCGAUGGUGCAGCCGCUAUUAAAGGUUCGUUUGUUCAACGAUUAAAGUCCUACGUGAUCUGAGUUCAGACCGGAGUAAUCCAGGUCGGUUUCUAUCUACUUUAUUCCUCCCUGUACGAAAGGACAAGAGAAAUAAGGCCUACUUCACAAAGCGCCUUCCCCCGUAAAUGAUAUCAUCUCAACUUAGAUACCCACACCCAAGAACAGGGUU']}, 'id': 'call_nHNHTa1YvLJhWb0c6BJY8v6b', 'type': 'tool_call'}], usage_metadata={'input_tokens': 14179, 'output_tokens': 850, 'total_tokens': 15029, 'input_token_details': {'audio': 0, 'cache_read': 14080}, 'output_token_details': {'audio': 0, 'reasoning': 0}})"
      ]
     },
     "execution_count": 51,
     "metadata": {},
     "output_type": "execute_result"
    }
   ],
   "source": [
    "output[\"messages\"][-3]"
   ]
  },
  {
   "cell_type": "code",
   "execution_count": null,
   "metadata": {},
   "outputs": [
    {
     "name": "stdout",
     "output_type": "stream",
     "text": [
      "Predicting binding affinity:  ['CC(C)(COP(=O)(O)OP(=O)(O)OC[C@H]1O[C@@H](n2ccc(=N)nc2O)[C@H](O)[C@@H]1OP(=O)(O)O)[C@@H](O)C(O)=NCCC(O)=NCCS'] ['GCUAAACCUAGCCCCAAACCCCCACCUUACUACCAAACCUUAGCCAAACCAUUUACAUAAAGUAUAGGCGAUAGAAAUUGGGCGCAAUAGAUAUAGUACCGCAAGGGAAAGAUGAAAAAACCAAGCAUAAUAUAGCAAGGACUAACCCCUAUACCUUCUGCAUAAUGAAUUAACUAGAAAUAACUUUGCAAGGAGAGCCAAAGCUAAGACCCCCGAAACCAGACGAGCUACCUAAGAACAGCUAAGAGCACACCCGUCUAUGUAGCAAAAUAGUGGGAAGAUUUAUAGGUAGAGGCGACAAACCUACCGAGCCUGGUGAUAGCUGGUUGUCCAAGAUAGAAUCUUAGUUCAACUUUAAAUUUGCCCACAGAACCAAAUCCCCUUGUAAAUUUAACUGUUAGUCCAAAGAGGAACAGCUCUUUGGACACUAGGAAAAAACCUUGUAGAGAGAGUAAAAAAUUUAACACCCAUAGUAGGCCUAAAAGCAGCCACCAAUUAAGAAAGCGUUCAAGCUCAACACAAAAAUCCCAAACAUAUAACUGAACUCCUCACACCCAAUUGGACCAAUCUAUCACCCUAUAGAAGAACUAAUGUUAGUAUAAGUAACAUGAAAACAUUCUCCUCCGCAUAAGCCUGCGUCAGCAACUGACAAUUAACAGCCCAAUAUCUACAAUCAACCAACAAGUCAUUAUUACCCUCACUGUCAACCCAACACAGGCAUGCUCAUAAGGAAAGGUUAAAAAAAGUAAAAGGAACUCGGCAAAUCUUACCCCGCCUGUUUACCAAAAACAUCACCUCUAGCAUCACCAGUAUUAGAGGCACCGCCUGCCCAGUGACACAUGUUUAACGGCCGCAAAGGUAGCAUAAUCACUUGUUCCUUAAAUAGGGACCUGUAUGAAUGGCUCCACGAGGGUUCAGCUGUCUCUUACUUUUAACCAGUGAAAUUGACCUGCCCGUGAAGAGGCGGGCAUAACACAGCAAGACGAGAAGACCCUAUGGAGCUUUAAUUUAUUAAUGCAAACACCUGCAUUAAAAAUUUCGGUUGGGGCGACCUCGGAGCAGAACCCAACCUCCGAGCAGUACAUGCUAAGACUUCACCAGUCAAAGCGAACCUCAAUUGAUCCAAUAACUUGACCAACGGAACAAGUUACCCUAGGGAUAACAGCGCAAUCCUAUUCUAGAGUCCAUAUCAACAAUAGGGUUUACGACCUCGAUGUUGGAUCAGGACAUCCCGAUGGUGCAGCCGCUAUUAAAGGUUCGUUUGUUCAACGAUUAAAGUCCUACGUGAUCUGAGUUCAGACCGGAGUAAUCCAGGUCGGUUUCUAUCUACUUUAUUCCUCCCUGUACGAAAGGACAAGAGAAAUAAGGCCUACUUCACAAAGCGCCUUCCCCCGUAAAUGAUAUCAUCUCAACUUAGAUACCCACACCCAAGAACAGGGUU']\n",
      "Drug Target Interaction Prediction Mode...\n"
     ]
    },
    {
     "ename": "TypeError",
     "evalue": "'NoneType' object is not iterable",
     "output_type": "error",
     "traceback": [
      "\u001b[31m---------------------------------------------------------------------------\u001b[39m",
      "\u001b[31mTypeError\u001b[39m                                 Traceback (most recent call last)",
      "\u001b[36mCell\u001b[39m\u001b[36m \u001b[39m\u001b[32mIn[55]\u001b[39m\u001b[32m, line 1\u001b[39m\n\u001b[32m----> \u001b[39m\u001b[32m1\u001b[39m \u001b[43mpredict_binding_affinity\u001b[49m\u001b[43m(\u001b[49m\u001b[43m[\u001b[49m\u001b[33;43m\"\u001b[39;49m\u001b[33;43mCC(C)(COP(=O)(O)OP(=O)(O)OC[C@H]1O[C@@H](n2ccc(=N)nc2O)[C@H](O)[C@@H]1OP(=O)(O)O)[C@@H](O)C(O)=NCCC(O)=NCCS\u001b[39;49m\u001b[33;43m\"\u001b[39;49m\u001b[43m]\u001b[49m\u001b[43m,\u001b[49m\u001b[43m \u001b[49m\u001b[43m[\u001b[49m\u001b[33;43m\"\u001b[39;49m\u001b[33;43mGCUAAACCUAGCCCCAAACCCCCACCUUACUACCAAACCUUAGCCAAACCAUUUACAUAAAGUAUAGGCGAUAGAAAUUGGGCGCAAUAGAUAUAGUACCGCAAGGGAAAGAUGAAAAAACCAAGCAUAAUAUAGCAAGGACUAACCCCUAUACCUUCUGCAUAAUGAAUUAACUAGAAAUAACUUUGCAAGGAGAGCCAAAGCUAAGACCCCCGAAACCAGACGAGCUACCUAAGAACAGCUAAGAGCACACCCGUCUAUGUAGCAAAAUAGUGGGAAGAUUUAUAGGUAGAGGCGACAAACCUACCGAGCCUGGUGAUAGCUGGUUGUCCAAGAUAGAAUCUUAGUUCAACUUUAAAUUUGCCCACAGAACCAAAUCCCCUUGUAAAUUUAACUGUUAGUCCAAAGAGGAACAGCUCUUUGGACACUAGGAAAAAACCUUGUAGAGAGAGUAAAAAAUUUAACACCCAUAGUAGGCCUAAAAGCAGCCACCAAUUAAGAAAGCGUUCAAGCUCAACACAAAAAUCCCAAACAUAUAACUGAACUCCUCACACCCAAUUGGACCAAUCUAUCACCCUAUAGAAGAACUAAUGUUAGUAUAAGUAACAUGAAAACAUUCUCCUCCGCAUAAGCCUGCGUCAGCAACUGACAAUUAACAGCCCAAUAUCUACAAUCAACCAACAAGUCAUUAUUACCCUCACUGUCAACCCAACACAGGCAUGCUCAUAAGGAAAGGUUAAAAAAAGUAAAAGGAACUCGGCAAAUCUUACCCCGCCUGUUUACCAAAAACAUCACCUCUAGCAUCACCAGUAUUAGAGGCACCGCCUGCCCAGUGACACAUGUUUAACGGCCGCAAAGGUAGCAUAAUCACUUGUUCCUUAAAUAGGGACCUGUAUGAAUGGCUCCACGAGGGUUCAGCUGUCUCUUACUUUUAACCAGUGAAAUUGACCUGCCCGUGAAGAGGCGGGCAUAACACAGCAAGACGAGAAGACCCUAUGGAGCUUUAAUUUAUUAAUGCAAACACCUGCAUUAAAAAUUUCGGUUGGGGCGACCUCGGAGCAGAACCCAACCUCCGAGCAGUACAUGCUAAGACUUCACCAGUCAAAGCGAACCUCAAUUGAUCCAAUAACUUGACCAACGGAACAAGUUACCCUAGGGAUAACAGCGCAAUCCUAUUCUAGAGUCCAUAUCAACAAUAGGGUUUACGACCUCGAUGUUGGAUCAGGACAUCCCGAUGGUGCAGCCGCUAUUAAAGGUUCGUUUGUUCAACGAUUAAAGUCCUACGUGAUCUGAGUUCAGACCGGAGUAAUCCAGGUCGGUUUCUAUCUACUUUAUUCCUCCCUGUACGAAAGGACAAGAGAAAUAAGGCCUACUUCACAAAGCGCCUUCCCCCGUAAAUGAUAUCAUCUCAACUUAGAUACCCACACCCAAGAACAGGGUU\u001b[39;49m\u001b[33;43m\"\u001b[39;49m\u001b[43m]\u001b[49m\u001b[43m)\u001b[49m\n",
      "\u001b[36mCell\u001b[39m\u001b[36m \u001b[39m\u001b[32mIn[54]\u001b[39m\u001b[32m, line 18\u001b[39m, in \u001b[36mpredict_binding_affinity\u001b[39m\u001b[34m(X_drug, X_target)\u001b[39m\n\u001b[32m     14\u001b[39m \u001b[38;5;28mprint\u001b[39m(\u001b[33m\"\u001b[39m\u001b[33mPredicting binding affinity: \u001b[39m\u001b[33m\"\u001b[39m, X_drug, X_target)\n\u001b[32m     16\u001b[39m model = models.model_pretrained(path_dir=\u001b[33m'\u001b[39m\u001b[33mDTI_model\u001b[39m\u001b[33m'\u001b[39m)\n\u001b[32m---> \u001b[39m\u001b[32m18\u001b[39m X_pred = \u001b[43mutils\u001b[49m\u001b[43m.\u001b[49m\u001b[43mdata_process\u001b[49m\u001b[43m(\u001b[49m\u001b[43mX_drug\u001b[49m\u001b[43m,\u001b[49m\u001b[43m \u001b[49m\u001b[43mX_target\u001b[49m\u001b[43m,\u001b[49m\u001b[43m \u001b[49m\n\u001b[32m     19\u001b[39m \u001b[43m                            \u001b[49m\u001b[43mdrug_encoding\u001b[49m\u001b[43m=\u001b[49m\u001b[33;43m'\u001b[39;49m\u001b[33;43mCNN\u001b[39;49m\u001b[33;43m'\u001b[39;49m\u001b[43m,\u001b[49m\u001b[43m \u001b[49m\n\u001b[32m     20\u001b[39m \u001b[43m                            \u001b[49m\u001b[43mtarget_encoding\u001b[49m\u001b[43m=\u001b[49m\u001b[33;43m'\u001b[39;49m\u001b[33;43mCNN\u001b[39;49m\u001b[33;43m'\u001b[39;49m\u001b[43m,\u001b[49m\u001b[43m \u001b[49m\n\u001b[32m     21\u001b[39m \u001b[43m                            \u001b[49m\u001b[43msplit_method\u001b[49m\u001b[43m=\u001b[49m\u001b[33;43m'\u001b[39;49m\u001b[33;43mno_split\u001b[39;49m\u001b[33;43m'\u001b[39;49m\u001b[43m)\u001b[49m\n\u001b[32m     23\u001b[39m predictions = model.predict(X_pred)\n\u001b[32m     25\u001b[39m \u001b[38;5;28;01mreturn\u001b[39;00m predictions[\u001b[32m0\u001b[39m]\n",
      "\u001b[36mFile \u001b[39m\u001b[32m/opt/anaconda3/envs/TamGen/lib/python3.12/site-packages/DeepPurpose/utils.py:490\u001b[39m, in \u001b[36mdata_process\u001b[39m\u001b[34m(X_drug, X_target, y, drug_encoding, target_encoding, split_method, frac, random_seed, sample_frac, mode, X_drug_, X_target_)\u001b[39m\n\u001b[32m    486\u001b[39m \u001b[38;5;28;01mif\u001b[39;00m \u001b[38;5;28mlen\u001b[39m(X_target) == \u001b[32m1\u001b[39m:\n\u001b[32m    487\u001b[39m \t\u001b[38;5;66;03m# one target high throughput screening setting\u001b[39;00m\n\u001b[32m    488\u001b[39m \tX_target = np.tile(X_target, (length_func(X_drug), ))\n\u001b[32m--> \u001b[39m\u001b[32m490\u001b[39m df_data = pd.DataFrame(\u001b[38;5;28;43mzip\u001b[39;49m\u001b[43m(\u001b[49m\u001b[43mX_drug\u001b[49m\u001b[43m,\u001b[49m\u001b[43m \u001b[49m\u001b[43mX_target\u001b[49m\u001b[43m,\u001b[49m\u001b[43m \u001b[49m\u001b[43my\u001b[49m\u001b[43m)\u001b[49m)\n\u001b[32m    491\u001b[39m df_data.rename(columns={\u001b[32m0\u001b[39m:\u001b[33m'\u001b[39m\u001b[33mSMILES\u001b[39m\u001b[33m'\u001b[39m,\n\u001b[32m    492\u001b[39m \t\t\t\t\t\t\u001b[32m1\u001b[39m: \u001b[33m'\u001b[39m\u001b[33mTarget Sequence\u001b[39m\u001b[33m'\u001b[39m,\n\u001b[32m    493\u001b[39m \t\t\t\t\t\t\u001b[32m2\u001b[39m: \u001b[33m'\u001b[39m\u001b[33mLabel\u001b[39m\u001b[33m'\u001b[39m}, \n\u001b[32m    494\u001b[39m \t\t\t\t\t\tinplace=\u001b[38;5;28;01mTrue\u001b[39;00m)\n\u001b[32m    495\u001b[39m \u001b[38;5;28mprint\u001b[39m(\u001b[33m'\u001b[39m\u001b[33min total: \u001b[39m\u001b[33m'\u001b[39m + \u001b[38;5;28mstr\u001b[39m(\u001b[38;5;28mlen\u001b[39m(df_data)) + \u001b[33m'\u001b[39m\u001b[33m drug-target pairs\u001b[39m\u001b[33m'\u001b[39m)\n",
      "\u001b[31mTypeError\u001b[39m: 'NoneType' object is not iterable"
     ]
    }
   ],
   "source": [
    "predict_binding_affinity([\"CC(C)(COP(=O)(O)OP(=O)(O)OC[C@H]1O[C@@H](n2ccc(=N)nc2O)[C@H](O)[C@@H]1OP(=O)(O)O)[C@@H](O)C(O)=NCCC(O)=NCCS\"], [\"GCUAAACCUAGCCCCAAACCCCCACCUUACUACCAAACCUUAGCCAAACCAUUUACAUAAAGUAUAGGCGAUAGAAAUUGGGCGCAAUAGAUAUAGUACCGCAAGGGAAAGAUGAAAAAACCAAGCAUAAUAUAGCAAGGACUAACCCCUAUACCUUCUGCAUAAUGAAUUAACUAGAAAUAACUUUGCAAGGAGAGCCAAAGCUAAGACCCCCGAAACCAGACGAGCUACCUAAGAACAGCUAAGAGCACACCCGUCUAUGUAGCAAAAUAGUGGGAAGAUUUAUAGGUAGAGGCGACAAACCUACCGAGCCUGGUGAUAGCUGGUUGUCCAAGAUAGAAUCUUAGUUCAACUUUAAAUUUGCCCACAGAACCAAAUCCCCUUGUAAAUUUAACUGUUAGUCCAAAGAGGAACAGCUCUUUGGACACUAGGAAAAAACCUUGUAGAGAGAGUAAAAAAUUUAACACCCAUAGUAGGCCUAAAAGCAGCCACCAAUUAAGAAAGCGUUCAAGCUCAACACAAAAAUCCCAAACAUAUAACUGAACUCCUCACACCCAAUUGGACCAAUCUAUCACCCUAUAGAAGAACUAAUGUUAGUAUAAGUAACAUGAAAACAUUCUCCUCCGCAUAAGCCUGCGUCAGCAACUGACAAUUAACAGCCCAAUAUCUACAAUCAACCAACAAGUCAUUAUUACCCUCACUGUCAACCCAACACAGGCAUGCUCAUAAGGAAAGGUUAAAAAAAGUAAAAGGAACUCGGCAAAUCUUACCCCGCCUGUUUACCAAAAACAUCACCUCUAGCAUCACCAGUAUUAGAGGCACCGCCUGCCCAGUGACACAUGUUUAACGGCCGCAAAGGUAGCAUAAUCACUUGUUCCUUAAAUAGGGACCUGUAUGAAUGGCUCCACGAGGGUUCAGCUGUCUCUUACUUUUAACCAGUGAAAUUGACCUGCCCGUGAAGAGGCGGGCAUAACACAGCAAGACGAGAAGACCCUAUGGAGCUUUAAUUUAUUAAUGCAAACACCUGCAUUAAAAAUUUCGGUUGGGGCGACCUCGGAGCAGAACCCAACCUCCGAGCAGUACAUGCUAAGACUUCACCAGUCAAAGCGAACCUCAAUUGAUCCAAUAACUUGACCAACGGAACAAGUUACCCUAGGGAUAACAGCGCAAUCCUAUUCUAGAGUCCAUAUCAACAAUAGGGUUUACGACCUCGAUGUUGGAUCAGGACAUCCCGAUGGUGCAGCCGCUAUUAAAGGUUCGUUUGUUCAACGAUUAAAGUCCUACGUGAUCUGAGUUCAGACCGGAGUAAUCCAGGUCGGUUUCUAUCUACUUUAUUCCUCCCUGUACGAAAGGACAAGAGAAAUAAGGCCUACUUCACAAAGCGCCUUCCCCCGUAAAUGAUAUCAUCUCAACUUAGAUACCCACACCCAAGAACAGGGUU\"])"
   ]
  },
  {
   "cell_type": "code",
   "execution_count": null,
   "metadata": {},
   "outputs": [],
   "source": []
  }
 ],
 "metadata": {
  "kernelspec": {
   "display_name": "TamGen",
   "language": "python",
   "name": "python3"
  },
  "language_info": {
   "codemirror_mode": {
    "name": "ipython",
    "version": 3
   },
   "file_extension": ".py",
   "mimetype": "text/x-python",
   "name": "python",
   "nbconvert_exporter": "python",
   "pygments_lexer": "ipython3",
   "version": "3.12.2"
  }
 },
 "nbformat": 4,
 "nbformat_minor": 2
}
